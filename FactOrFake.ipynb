{
 "cells": [
  {
   "cell_type": "markdown",
   "metadata": {},
   "source": [
    "# CS 451 Project Preliminary\n",
    "## FactOrFake : Fake News Detection Using Machine Learning Algorithms "
   ]
  },
  {
   "cell_type": "markdown",
   "metadata": {},
   "source": [
    "### 1. Data Collection "
   ]
  },
  {
   "cell_type": "code",
   "execution_count": 81,
   "metadata": {},
   "outputs": [],
   "source": [
    "import pandas as pd\n",
    "import itertools\n",
    "import nltk\n",
    "import re\n",
    "from nltk.corpus import stopwords\n",
    "from nltk.stem import WordNetLemmatizer\n",
    "from sklearn.model_selection import train_test_split\n",
    "from sklearn.feature_extraction.text import TfidfVectorizer\n",
    "from sklearn.model_selection import KFold\n",
    "from sklearn.metrics import accuracy_score, confusion_matrix, f1_score, roc_curve, roc_auc_score, precision_score"
   ]
  },
  {
   "cell_type": "code",
   "execution_count": 82,
   "metadata": {},
   "outputs": [
    {
     "data": {
      "text/html": [
       "<div>\n",
       "<style scoped>\n",
       "    .dataframe tbody tr th:only-of-type {\n",
       "        vertical-align: middle;\n",
       "    }\n",
       "\n",
       "    .dataframe tbody tr th {\n",
       "        vertical-align: top;\n",
       "    }\n",
       "\n",
       "    .dataframe thead th {\n",
       "        text-align: right;\n",
       "    }\n",
       "</style>\n",
       "<table border=\"1\" class=\"dataframe\">\n",
       "  <thead>\n",
       "    <tr style=\"text-align: right;\">\n",
       "      <th></th>\n",
       "      <th>id</th>\n",
       "      <th>news_url</th>\n",
       "      <th>title</th>\n",
       "      <th>tweet_ids</th>\n",
       "    </tr>\n",
       "  </thead>\n",
       "  <tbody>\n",
       "    <tr>\n",
       "      <th>0</th>\n",
       "      <td>politifact15014</td>\n",
       "      <td>speedtalk.com/forum/viewtopic.php?t=51650</td>\n",
       "      <td>BREAKING: First NFL Team Declares Bankruptcy O...</td>\n",
       "      <td>937349434668498944\\t937379378006282240\\t937380...</td>\n",
       "    </tr>\n",
       "    <tr>\n",
       "      <th>1</th>\n",
       "      <td>politifact15156</td>\n",
       "      <td>politics2020.info/index.php/2018/03/13/court-o...</td>\n",
       "      <td>Court Orders Obama To Pay $400 Million In Rest...</td>\n",
       "      <td>972666281441878016\\t972678396575559680\\t972827...</td>\n",
       "    </tr>\n",
       "    <tr>\n",
       "      <th>2</th>\n",
       "      <td>politifact14745</td>\n",
       "      <td>www.nscdscamps.org/blog/category/parenting/467...</td>\n",
       "      <td>UPDATE: Second Roy Moore Accuser Works For Mic...</td>\n",
       "      <td>929405740732870656\\t929439450400264192\\t929439...</td>\n",
       "    </tr>\n",
       "    <tr>\n",
       "      <th>3</th>\n",
       "      <td>politifact14355</td>\n",
       "      <td>https://howafrica.com/oscar-pistorius-attempts...</td>\n",
       "      <td>Oscar Pistorius Attempts To Commit Suicide</td>\n",
       "      <td>886941526458347521\\t887011300278194176\\t887023...</td>\n",
       "    </tr>\n",
       "    <tr>\n",
       "      <th>4</th>\n",
       "      <td>politifact15371</td>\n",
       "      <td>http://washingtonsources.org/trump-votes-for-d...</td>\n",
       "      <td>Trump Votes For Death Penalty For Being Gay</td>\n",
       "      <td>915205698212040704\\t915242076681506816\\t915249...</td>\n",
       "    </tr>\n",
       "  </tbody>\n",
       "</table>\n",
       "</div>"
      ],
      "text/plain": [
       "                id                                           news_url  \\\n",
       "0  politifact15014          speedtalk.com/forum/viewtopic.php?t=51650   \n",
       "1  politifact15156  politics2020.info/index.php/2018/03/13/court-o...   \n",
       "2  politifact14745  www.nscdscamps.org/blog/category/parenting/467...   \n",
       "3  politifact14355  https://howafrica.com/oscar-pistorius-attempts...   \n",
       "4  politifact15371  http://washingtonsources.org/trump-votes-for-d...   \n",
       "\n",
       "                                               title  \\\n",
       "0  BREAKING: First NFL Team Declares Bankruptcy O...   \n",
       "1  Court Orders Obama To Pay $400 Million In Rest...   \n",
       "2  UPDATE: Second Roy Moore Accuser Works For Mic...   \n",
       "3         Oscar Pistorius Attempts To Commit Suicide   \n",
       "4        Trump Votes For Death Penalty For Being Gay   \n",
       "\n",
       "                                           tweet_ids  \n",
       "0  937349434668498944\\t937379378006282240\\t937380...  \n",
       "1  972666281441878016\\t972678396575559680\\t972827...  \n",
       "2  929405740732870656\\t929439450400264192\\t929439...  \n",
       "3  886941526458347521\\t887011300278194176\\t887023...  \n",
       "4  915205698212040704\\t915242076681506816\\t915249...  "
      ]
     },
     "execution_count": 82,
     "metadata": {},
     "output_type": "execute_result"
    }
   ],
   "source": [
    "df_poltifake = pd.read_csv(\"Datasets\\FakeNewsNet\\dataset\\politifact_fake.csv\")\n",
    "df_poltifake.head()"
   ]
  },
  {
   "cell_type": "code",
   "execution_count": 83,
   "metadata": {},
   "outputs": [
    {
     "data": {
      "text/plain": [
       "(432, 4)"
      ]
     },
     "execution_count": 83,
     "metadata": {},
     "output_type": "execute_result"
    }
   ],
   "source": [
    "df_poltifake.shape"
   ]
  },
  {
   "cell_type": "code",
   "execution_count": 84,
   "metadata": {},
   "outputs": [
    {
     "data": {
      "text/plain": [
       "428"
      ]
     },
     "execution_count": 84,
     "metadata": {},
     "output_type": "execute_result"
    }
   ],
   "source": [
    "df_poltifake['news_url'].nunique()"
   ]
  },
  {
   "cell_type": "code",
   "execution_count": 85,
   "metadata": {},
   "outputs": [],
   "source": [
    "df_poltifake['target'] = 0"
   ]
  },
  {
   "cell_type": "code",
   "execution_count": 86,
   "metadata": {},
   "outputs": [
    {
     "data": {
      "text/html": [
       "<div>\n",
       "<style scoped>\n",
       "    .dataframe tbody tr th:only-of-type {\n",
       "        vertical-align: middle;\n",
       "    }\n",
       "\n",
       "    .dataframe tbody tr th {\n",
       "        vertical-align: top;\n",
       "    }\n",
       "\n",
       "    .dataframe thead th {\n",
       "        text-align: right;\n",
       "    }\n",
       "</style>\n",
       "<table border=\"1\" class=\"dataframe\">\n",
       "  <thead>\n",
       "    <tr style=\"text-align: right;\">\n",
       "      <th></th>\n",
       "      <th>id</th>\n",
       "      <th>news_url</th>\n",
       "      <th>title</th>\n",
       "      <th>tweet_ids</th>\n",
       "      <th>target</th>\n",
       "    </tr>\n",
       "  </thead>\n",
       "  <tbody>\n",
       "    <tr>\n",
       "      <th>0</th>\n",
       "      <td>politifact15014</td>\n",
       "      <td>speedtalk.com/forum/viewtopic.php?t=51650</td>\n",
       "      <td>BREAKING: First NFL Team Declares Bankruptcy O...</td>\n",
       "      <td>937349434668498944\\t937379378006282240\\t937380...</td>\n",
       "      <td>0</td>\n",
       "    </tr>\n",
       "    <tr>\n",
       "      <th>1</th>\n",
       "      <td>politifact15156</td>\n",
       "      <td>politics2020.info/index.php/2018/03/13/court-o...</td>\n",
       "      <td>Court Orders Obama To Pay $400 Million In Rest...</td>\n",
       "      <td>972666281441878016\\t972678396575559680\\t972827...</td>\n",
       "      <td>0</td>\n",
       "    </tr>\n",
       "    <tr>\n",
       "      <th>2</th>\n",
       "      <td>politifact14745</td>\n",
       "      <td>www.nscdscamps.org/blog/category/parenting/467...</td>\n",
       "      <td>UPDATE: Second Roy Moore Accuser Works For Mic...</td>\n",
       "      <td>929405740732870656\\t929439450400264192\\t929439...</td>\n",
       "      <td>0</td>\n",
       "    </tr>\n",
       "    <tr>\n",
       "      <th>3</th>\n",
       "      <td>politifact14355</td>\n",
       "      <td>https://howafrica.com/oscar-pistorius-attempts...</td>\n",
       "      <td>Oscar Pistorius Attempts To Commit Suicide</td>\n",
       "      <td>886941526458347521\\t887011300278194176\\t887023...</td>\n",
       "      <td>0</td>\n",
       "    </tr>\n",
       "    <tr>\n",
       "      <th>4</th>\n",
       "      <td>politifact15371</td>\n",
       "      <td>http://washingtonsources.org/trump-votes-for-d...</td>\n",
       "      <td>Trump Votes For Death Penalty For Being Gay</td>\n",
       "      <td>915205698212040704\\t915242076681506816\\t915249...</td>\n",
       "      <td>0</td>\n",
       "    </tr>\n",
       "  </tbody>\n",
       "</table>\n",
       "</div>"
      ],
      "text/plain": [
       "                id                                           news_url  \\\n",
       "0  politifact15014          speedtalk.com/forum/viewtopic.php?t=51650   \n",
       "1  politifact15156  politics2020.info/index.php/2018/03/13/court-o...   \n",
       "2  politifact14745  www.nscdscamps.org/blog/category/parenting/467...   \n",
       "3  politifact14355  https://howafrica.com/oscar-pistorius-attempts...   \n",
       "4  politifact15371  http://washingtonsources.org/trump-votes-for-d...   \n",
       "\n",
       "                                               title  \\\n",
       "0  BREAKING: First NFL Team Declares Bankruptcy O...   \n",
       "1  Court Orders Obama To Pay $400 Million In Rest...   \n",
       "2  UPDATE: Second Roy Moore Accuser Works For Mic...   \n",
       "3         Oscar Pistorius Attempts To Commit Suicide   \n",
       "4        Trump Votes For Death Penalty For Being Gay   \n",
       "\n",
       "                                           tweet_ids  target  \n",
       "0  937349434668498944\\t937379378006282240\\t937380...       0  \n",
       "1  972666281441878016\\t972678396575559680\\t972827...       0  \n",
       "2  929405740732870656\\t929439450400264192\\t929439...       0  \n",
       "3  886941526458347521\\t887011300278194176\\t887023...       0  \n",
       "4  915205698212040704\\t915242076681506816\\t915249...       0  "
      ]
     },
     "execution_count": 86,
     "metadata": {},
     "output_type": "execute_result"
    }
   ],
   "source": [
    "df_poltifake.head()"
   ]
  },
  {
   "cell_type": "code",
   "execution_count": 87,
   "metadata": {},
   "outputs": [],
   "source": [
    "df_poltifake.drop(df_poltifake.columns[[0,3]],axis=1,inplace=True)"
   ]
  },
  {
   "cell_type": "code",
   "execution_count": 88,
   "metadata": {
    "scrolled": true
   },
   "outputs": [
    {
     "data": {
      "text/html": [
       "<div>\n",
       "<style scoped>\n",
       "    .dataframe tbody tr th:only-of-type {\n",
       "        vertical-align: middle;\n",
       "    }\n",
       "\n",
       "    .dataframe tbody tr th {\n",
       "        vertical-align: top;\n",
       "    }\n",
       "\n",
       "    .dataframe thead th {\n",
       "        text-align: right;\n",
       "    }\n",
       "</style>\n",
       "<table border=\"1\" class=\"dataframe\">\n",
       "  <thead>\n",
       "    <tr style=\"text-align: right;\">\n",
       "      <th></th>\n",
       "      <th>news_url</th>\n",
       "      <th>title</th>\n",
       "      <th>target</th>\n",
       "    </tr>\n",
       "  </thead>\n",
       "  <tbody>\n",
       "    <tr>\n",
       "      <th>0</th>\n",
       "      <td>speedtalk.com/forum/viewtopic.php?t=51650</td>\n",
       "      <td>BREAKING: First NFL Team Declares Bankruptcy O...</td>\n",
       "      <td>0</td>\n",
       "    </tr>\n",
       "    <tr>\n",
       "      <th>1</th>\n",
       "      <td>politics2020.info/index.php/2018/03/13/court-o...</td>\n",
       "      <td>Court Orders Obama To Pay $400 Million In Rest...</td>\n",
       "      <td>0</td>\n",
       "    </tr>\n",
       "    <tr>\n",
       "      <th>2</th>\n",
       "      <td>www.nscdscamps.org/blog/category/parenting/467...</td>\n",
       "      <td>UPDATE: Second Roy Moore Accuser Works For Mic...</td>\n",
       "      <td>0</td>\n",
       "    </tr>\n",
       "    <tr>\n",
       "      <th>3</th>\n",
       "      <td>https://howafrica.com/oscar-pistorius-attempts...</td>\n",
       "      <td>Oscar Pistorius Attempts To Commit Suicide</td>\n",
       "      <td>0</td>\n",
       "    </tr>\n",
       "    <tr>\n",
       "      <th>4</th>\n",
       "      <td>http://washingtonsources.org/trump-votes-for-d...</td>\n",
       "      <td>Trump Votes For Death Penalty For Being Gay</td>\n",
       "      <td>0</td>\n",
       "    </tr>\n",
       "  </tbody>\n",
       "</table>\n",
       "</div>"
      ],
      "text/plain": [
       "                                            news_url  \\\n",
       "0          speedtalk.com/forum/viewtopic.php?t=51650   \n",
       "1  politics2020.info/index.php/2018/03/13/court-o...   \n",
       "2  www.nscdscamps.org/blog/category/parenting/467...   \n",
       "3  https://howafrica.com/oscar-pistorius-attempts...   \n",
       "4  http://washingtonsources.org/trump-votes-for-d...   \n",
       "\n",
       "                                               title  target  \n",
       "0  BREAKING: First NFL Team Declares Bankruptcy O...       0  \n",
       "1  Court Orders Obama To Pay $400 Million In Rest...       0  \n",
       "2  UPDATE: Second Roy Moore Accuser Works For Mic...       0  \n",
       "3         Oscar Pistorius Attempts To Commit Suicide       0  \n",
       "4        Trump Votes For Death Penalty For Being Gay       0  "
      ]
     },
     "execution_count": 88,
     "metadata": {},
     "output_type": "execute_result"
    }
   ],
   "source": [
    "df_poltifake.head()"
   ]
  },
  {
   "cell_type": "code",
   "execution_count": 89,
   "metadata": {},
   "outputs": [
    {
     "data": {
      "text/plain": [
       "(432, 3)"
      ]
     },
     "execution_count": 89,
     "metadata": {},
     "output_type": "execute_result"
    }
   ],
   "source": [
    "df_poltifake.dropna()\n",
    "df_poltifake.shape"
   ]
  },
  {
   "cell_type": "code",
   "execution_count": 90,
   "metadata": {},
   "outputs": [
    {
     "data": {
      "text/html": [
       "<div>\n",
       "<style scoped>\n",
       "    .dataframe tbody tr th:only-of-type {\n",
       "        vertical-align: middle;\n",
       "    }\n",
       "\n",
       "    .dataframe tbody tr th {\n",
       "        vertical-align: top;\n",
       "    }\n",
       "\n",
       "    .dataframe thead th {\n",
       "        text-align: right;\n",
       "    }\n",
       "</style>\n",
       "<table border=\"1\" class=\"dataframe\">\n",
       "  <thead>\n",
       "    <tr style=\"text-align: right;\">\n",
       "      <th></th>\n",
       "      <th>news_url</th>\n",
       "      <th>title</th>\n",
       "      <th>target</th>\n",
       "    </tr>\n",
       "  </thead>\n",
       "  <tbody>\n",
       "    <tr>\n",
       "      <th>0</th>\n",
       "      <td>http://www.nfib-sbet.org/</td>\n",
       "      <td>National Federation of Independent Business</td>\n",
       "      <td>1</td>\n",
       "    </tr>\n",
       "    <tr>\n",
       "      <th>1</th>\n",
       "      <td>http://www.cq.com/doc/newsmakertranscripts-494...</td>\n",
       "      <td>comments in Fayetteville NC</td>\n",
       "      <td>1</td>\n",
       "    </tr>\n",
       "    <tr>\n",
       "      <th>4</th>\n",
       "      <td>https://web.archive.org/web/20070820164107/htt...</td>\n",
       "      <td>Budget of the United States Government, FY 2008</td>\n",
       "      <td>1</td>\n",
       "    </tr>\n",
       "    <tr>\n",
       "      <th>5</th>\n",
       "      <td>http://www.politifact.com/truth-o-meter/statem...</td>\n",
       "      <td>Donald Trump exaggerates when he says China ha...</td>\n",
       "      <td>1</td>\n",
       "    </tr>\n",
       "    <tr>\n",
       "      <th>6</th>\n",
       "      <td>https://www.law.cornell.edu/constitution/amend...</td>\n",
       "      <td>25th Amendment</td>\n",
       "      <td>1</td>\n",
       "    </tr>\n",
       "  </tbody>\n",
       "</table>\n",
       "</div>"
      ],
      "text/plain": [
       "                                            news_url  \\\n",
       "0                          http://www.nfib-sbet.org/   \n",
       "1  http://www.cq.com/doc/newsmakertranscripts-494...   \n",
       "4  https://web.archive.org/web/20070820164107/htt...   \n",
       "5  http://www.politifact.com/truth-o-meter/statem...   \n",
       "6  https://www.law.cornell.edu/constitution/amend...   \n",
       "\n",
       "                                               title  target  \n",
       "0        National Federation of Independent Business       1  \n",
       "1                        comments in Fayetteville NC       1  \n",
       "4    Budget of the United States Government, FY 2008       1  \n",
       "5  Donald Trump exaggerates when he says China ha...       1  \n",
       "6                                     25th Amendment       1  "
      ]
     },
     "execution_count": 90,
     "metadata": {},
     "output_type": "execute_result"
    }
   ],
   "source": [
    "df = pd.read_csv(\"Datasets\\FakeNewsNet\\dataset\\politifact_real.csv\")\n",
    "df.dropna(inplace=True)\n",
    "df['target'] = 1\n",
    "df.drop(df.columns[[0,3]],axis=1,inplace=True)\n",
    "df.head()"
   ]
  },
  {
   "cell_type": "code",
   "execution_count": 91,
   "metadata": {},
   "outputs": [
    {
     "data": {
      "text/plain": [
       "(373, 3)"
      ]
     },
     "execution_count": 91,
     "metadata": {},
     "output_type": "execute_result"
    }
   ],
   "source": [
    "df.shape"
   ]
  },
  {
   "cell_type": "code",
   "execution_count": 92,
   "metadata": {},
   "outputs": [
    {
     "data": {
      "text/plain": [
       "(805, 3)"
      ]
     },
     "execution_count": 92,
     "metadata": {},
     "output_type": "execute_result"
    }
   ],
   "source": [
    "df_combined = pd.concat([df_poltifake,df])\n",
    "df_combined.shape"
   ]
  },
  {
   "cell_type": "code",
   "execution_count": 93,
   "metadata": {},
   "outputs": [
    {
     "data": {
      "text/html": [
       "<div>\n",
       "<style scoped>\n",
       "    .dataframe tbody tr th:only-of-type {\n",
       "        vertical-align: middle;\n",
       "    }\n",
       "\n",
       "    .dataframe tbody tr th {\n",
       "        vertical-align: top;\n",
       "    }\n",
       "\n",
       "    .dataframe thead th {\n",
       "        text-align: right;\n",
       "    }\n",
       "</style>\n",
       "<table border=\"1\" class=\"dataframe\">\n",
       "  <thead>\n",
       "    <tr style=\"text-align: right;\">\n",
       "      <th></th>\n",
       "      <th>id</th>\n",
       "      <th>news_url</th>\n",
       "      <th>title</th>\n",
       "      <th>tweet_ids</th>\n",
       "    </tr>\n",
       "  </thead>\n",
       "  <tbody>\n",
       "    <tr>\n",
       "      <th>0</th>\n",
       "      <td>gossipcop-882573</td>\n",
       "      <td>https://www.brides.com/story/teen-mom-jenelle-...</td>\n",
       "      <td>Teen Mom Star Jenelle Evans' Wedding Dress Is ...</td>\n",
       "      <td>912371411146149888\\t912371528343408641\\t912372...</td>\n",
       "    </tr>\n",
       "    <tr>\n",
       "      <th>1</th>\n",
       "      <td>gossipcop-875924</td>\n",
       "      <td>https://www.dailymail.co.uk/tvshowbiz/article-...</td>\n",
       "      <td>Kylie Jenner refusing to discuss Tyga on Life ...</td>\n",
       "      <td>901989917546426369\\t901989992074969089\\t901990...</td>\n",
       "    </tr>\n",
       "    <tr>\n",
       "      <th>2</th>\n",
       "      <td>gossipcop-894416</td>\n",
       "      <td>https://en.wikipedia.org/wiki/Quinn_Perkins</td>\n",
       "      <td>Quinn Perkins</td>\n",
       "      <td>931263637246881792\\t931265332022579201\\t931265...</td>\n",
       "    </tr>\n",
       "    <tr>\n",
       "      <th>3</th>\n",
       "      <td>gossipcop-857248</td>\n",
       "      <td>https://www.refinery29.com/en-us/2018/03/19192...</td>\n",
       "      <td>I Tried Kim Kardashian's Butt Workout &amp; Am For...</td>\n",
       "      <td>868114761723936769\\t868122567910936576\\t868128...</td>\n",
       "    </tr>\n",
       "    <tr>\n",
       "      <th>4</th>\n",
       "      <td>gossipcop-884684</td>\n",
       "      <td>https://www.cnn.com/2017/10/04/entertainment/c...</td>\n",
       "      <td>Celine Dion donates concert proceeds to Vegas ...</td>\n",
       "      <td>915528047004209152\\t915529285171122176\\t915530...</td>\n",
       "    </tr>\n",
       "  </tbody>\n",
       "</table>\n",
       "</div>"
      ],
      "text/plain": [
       "                 id                                           news_url  \\\n",
       "0  gossipcop-882573  https://www.brides.com/story/teen-mom-jenelle-...   \n",
       "1  gossipcop-875924  https://www.dailymail.co.uk/tvshowbiz/article-...   \n",
       "2  gossipcop-894416        https://en.wikipedia.org/wiki/Quinn_Perkins   \n",
       "3  gossipcop-857248  https://www.refinery29.com/en-us/2018/03/19192...   \n",
       "4  gossipcop-884684  https://www.cnn.com/2017/10/04/entertainment/c...   \n",
       "\n",
       "                                               title  \\\n",
       "0  Teen Mom Star Jenelle Evans' Wedding Dress Is ...   \n",
       "1  Kylie Jenner refusing to discuss Tyga on Life ...   \n",
       "2                                      Quinn Perkins   \n",
       "3  I Tried Kim Kardashian's Butt Workout & Am For...   \n",
       "4  Celine Dion donates concert proceeds to Vegas ...   \n",
       "\n",
       "                                           tweet_ids  \n",
       "0  912371411146149888\\t912371528343408641\\t912372...  \n",
       "1  901989917546426369\\t901989992074969089\\t901990...  \n",
       "2  931263637246881792\\t931265332022579201\\t931265...  \n",
       "3  868114761723936769\\t868122567910936576\\t868128...  \n",
       "4  915528047004209152\\t915529285171122176\\t915530...  "
      ]
     },
     "execution_count": 93,
     "metadata": {},
     "output_type": "execute_result"
    }
   ],
   "source": [
    "df = pd.read_csv(\"Datasets\\FakeNewsNet\\dataset\\gossipcop_real.csv\")\n",
    "df.head()"
   ]
  },
  {
   "cell_type": "code",
   "execution_count": 94,
   "metadata": {},
   "outputs": [
    {
     "data": {
      "text/html": [
       "<div>\n",
       "<style scoped>\n",
       "    .dataframe tbody tr th:only-of-type {\n",
       "        vertical-align: middle;\n",
       "    }\n",
       "\n",
       "    .dataframe tbody tr th {\n",
       "        vertical-align: top;\n",
       "    }\n",
       "\n",
       "    .dataframe thead th {\n",
       "        text-align: right;\n",
       "    }\n",
       "</style>\n",
       "<table border=\"1\" class=\"dataframe\">\n",
       "  <thead>\n",
       "    <tr style=\"text-align: right;\">\n",
       "      <th></th>\n",
       "      <th>news_url</th>\n",
       "      <th>title</th>\n",
       "      <th>target</th>\n",
       "    </tr>\n",
       "  </thead>\n",
       "  <tbody>\n",
       "    <tr>\n",
       "      <th>0</th>\n",
       "      <td>https://www.brides.com/story/teen-mom-jenelle-...</td>\n",
       "      <td>Teen Mom Star Jenelle Evans' Wedding Dress Is ...</td>\n",
       "      <td>1</td>\n",
       "    </tr>\n",
       "    <tr>\n",
       "      <th>1</th>\n",
       "      <td>https://www.dailymail.co.uk/tvshowbiz/article-...</td>\n",
       "      <td>Kylie Jenner refusing to discuss Tyga on Life ...</td>\n",
       "      <td>1</td>\n",
       "    </tr>\n",
       "    <tr>\n",
       "      <th>2</th>\n",
       "      <td>https://en.wikipedia.org/wiki/Quinn_Perkins</td>\n",
       "      <td>Quinn Perkins</td>\n",
       "      <td>1</td>\n",
       "    </tr>\n",
       "    <tr>\n",
       "      <th>3</th>\n",
       "      <td>https://www.refinery29.com/en-us/2018/03/19192...</td>\n",
       "      <td>I Tried Kim Kardashian's Butt Workout &amp; Am For...</td>\n",
       "      <td>1</td>\n",
       "    </tr>\n",
       "    <tr>\n",
       "      <th>4</th>\n",
       "      <td>https://www.cnn.com/2017/10/04/entertainment/c...</td>\n",
       "      <td>Celine Dion donates concert proceeds to Vegas ...</td>\n",
       "      <td>1</td>\n",
       "    </tr>\n",
       "  </tbody>\n",
       "</table>\n",
       "</div>"
      ],
      "text/plain": [
       "                                            news_url  \\\n",
       "0  https://www.brides.com/story/teen-mom-jenelle-...   \n",
       "1  https://www.dailymail.co.uk/tvshowbiz/article-...   \n",
       "2        https://en.wikipedia.org/wiki/Quinn_Perkins   \n",
       "3  https://www.refinery29.com/en-us/2018/03/19192...   \n",
       "4  https://www.cnn.com/2017/10/04/entertainment/c...   \n",
       "\n",
       "                                               title  target  \n",
       "0  Teen Mom Star Jenelle Evans' Wedding Dress Is ...       1  \n",
       "1  Kylie Jenner refusing to discuss Tyga on Life ...       1  \n",
       "2                                      Quinn Perkins       1  \n",
       "3  I Tried Kim Kardashian's Butt Workout & Am For...       1  \n",
       "4  Celine Dion donates concert proceeds to Vegas ...       1  "
      ]
     },
     "execution_count": 94,
     "metadata": {},
     "output_type": "execute_result"
    }
   ],
   "source": [
    "df.dropna(inplace=True)\n",
    "df['target'] = 1\n",
    "df.drop(df.columns[[0,3]],axis=1,inplace=True)\n",
    "df.head()"
   ]
  },
  {
   "cell_type": "code",
   "execution_count": 95,
   "metadata": {},
   "outputs": [
    {
     "data": {
      "text/plain": [
       "(15747, 3)"
      ]
     },
     "execution_count": 95,
     "metadata": {},
     "output_type": "execute_result"
    }
   ],
   "source": [
    "df.shape"
   ]
  },
  {
   "cell_type": "code",
   "execution_count": 96,
   "metadata": {},
   "outputs": [
    {
     "data": {
      "text/plain": [
       "(16552, 3)"
      ]
     },
     "execution_count": 96,
     "metadata": {},
     "output_type": "execute_result"
    }
   ],
   "source": [
    "df_combined = pd.concat([df_combined,df])\n",
    "df_combined.shape"
   ]
  },
  {
   "cell_type": "code",
   "execution_count": 97,
   "metadata": {},
   "outputs": [
    {
     "data": {
      "text/html": [
       "<div>\n",
       "<style scoped>\n",
       "    .dataframe tbody tr th:only-of-type {\n",
       "        vertical-align: middle;\n",
       "    }\n",
       "\n",
       "    .dataframe tbody tr th {\n",
       "        vertical-align: top;\n",
       "    }\n",
       "\n",
       "    .dataframe thead th {\n",
       "        text-align: right;\n",
       "    }\n",
       "</style>\n",
       "<table border=\"1\" class=\"dataframe\">\n",
       "  <thead>\n",
       "    <tr style=\"text-align: right;\">\n",
       "      <th></th>\n",
       "      <th>news_url</th>\n",
       "      <th>title</th>\n",
       "      <th>target</th>\n",
       "    </tr>\n",
       "  </thead>\n",
       "  <tbody>\n",
       "    <tr>\n",
       "      <th>0</th>\n",
       "      <td>https://www.brides.com/story/teen-mom-jenelle-...</td>\n",
       "      <td>Teen Mom Star Jenelle Evans' Wedding Dress Is ...</td>\n",
       "      <td>1</td>\n",
       "    </tr>\n",
       "    <tr>\n",
       "      <th>1</th>\n",
       "      <td>https://www.dailymail.co.uk/tvshowbiz/article-...</td>\n",
       "      <td>Kylie Jenner refusing to discuss Tyga on Life ...</td>\n",
       "      <td>1</td>\n",
       "    </tr>\n",
       "    <tr>\n",
       "      <th>2</th>\n",
       "      <td>https://en.wikipedia.org/wiki/Quinn_Perkins</td>\n",
       "      <td>Quinn Perkins</td>\n",
       "      <td>1</td>\n",
       "    </tr>\n",
       "    <tr>\n",
       "      <th>3</th>\n",
       "      <td>https://www.refinery29.com/en-us/2018/03/19192...</td>\n",
       "      <td>I Tried Kim Kardashian's Butt Workout &amp; Am For...</td>\n",
       "      <td>1</td>\n",
       "    </tr>\n",
       "    <tr>\n",
       "      <th>4</th>\n",
       "      <td>https://www.cnn.com/2017/10/04/entertainment/c...</td>\n",
       "      <td>Celine Dion donates concert proceeds to Vegas ...</td>\n",
       "      <td>1</td>\n",
       "    </tr>\n",
       "  </tbody>\n",
       "</table>\n",
       "</div>"
      ],
      "text/plain": [
       "                                            news_url  \\\n",
       "0  https://www.brides.com/story/teen-mom-jenelle-...   \n",
       "1  https://www.dailymail.co.uk/tvshowbiz/article-...   \n",
       "2        https://en.wikipedia.org/wiki/Quinn_Perkins   \n",
       "3  https://www.refinery29.com/en-us/2018/03/19192...   \n",
       "4  https://www.cnn.com/2017/10/04/entertainment/c...   \n",
       "\n",
       "                                               title  target  \n",
       "0  Teen Mom Star Jenelle Evans' Wedding Dress Is ...       1  \n",
       "1  Kylie Jenner refusing to discuss Tyga on Life ...       1  \n",
       "2                                      Quinn Perkins       1  \n",
       "3  I Tried Kim Kardashian's Butt Workout & Am For...       1  \n",
       "4  Celine Dion donates concert proceeds to Vegas ...       1  "
      ]
     },
     "execution_count": 97,
     "metadata": {},
     "output_type": "execute_result"
    }
   ],
   "source": [
    "df = pd.read_csv(\"Datasets\\FakeNewsNet\\dataset\\gossipcop_real.csv\")\n",
    "df['target'] = 1\n",
    "df.drop(df.columns[[0,3]],axis=1,inplace=True)\n",
    "df.dropna(inplace=True)\n",
    "df.head()"
   ]
  },
  {
   "cell_type": "code",
   "execution_count": 98,
   "metadata": {},
   "outputs": [
    {
     "data": {
      "text/plain": [
       "(33356, 3)"
      ]
     },
     "execution_count": 98,
     "metadata": {},
     "output_type": "execute_result"
    }
   ],
   "source": [
    "df_combined = pd.concat([df_combined,df])\n",
    "df_fakenewsnet = df_combined\n",
    "df_combined.shape"
   ]
  },
  {
   "cell_type": "code",
   "execution_count": 99,
   "metadata": {},
   "outputs": [
    {
     "data": {
      "text/html": [
       "<div>\n",
       "<style scoped>\n",
       "    .dataframe tbody tr th:only-of-type {\n",
       "        vertical-align: middle;\n",
       "    }\n",
       "\n",
       "    .dataframe tbody tr th {\n",
       "        vertical-align: top;\n",
       "    }\n",
       "\n",
       "    .dataframe thead th {\n",
       "        text-align: right;\n",
       "    }\n",
       "</style>\n",
       "<table border=\"1\" class=\"dataframe\">\n",
       "  <thead>\n",
       "    <tr style=\"text-align: right;\">\n",
       "      <th></th>\n",
       "      <th>uuid</th>\n",
       "      <th>ord_in_thread</th>\n",
       "      <th>author</th>\n",
       "      <th>published</th>\n",
       "      <th>title</th>\n",
       "      <th>text</th>\n",
       "      <th>language</th>\n",
       "      <th>crawled</th>\n",
       "      <th>site_url</th>\n",
       "      <th>country</th>\n",
       "      <th>domain_rank</th>\n",
       "      <th>thread_title</th>\n",
       "      <th>spam_score</th>\n",
       "      <th>main_img_url</th>\n",
       "      <th>replies_count</th>\n",
       "      <th>participants_count</th>\n",
       "      <th>likes</th>\n",
       "      <th>comments</th>\n",
       "      <th>shares</th>\n",
       "      <th>type</th>\n",
       "    </tr>\n",
       "  </thead>\n",
       "  <tbody>\n",
       "    <tr>\n",
       "      <th>0</th>\n",
       "      <td>6a175f46bcd24d39b3e962ad0f29936721db70db</td>\n",
       "      <td>0</td>\n",
       "      <td>Barracuda Brigade</td>\n",
       "      <td>2016-10-26T21:41:00.000+03:00</td>\n",
       "      <td>Muslims BUSTED: They Stole Millions In Gov’t B...</td>\n",
       "      <td>Print They should pay all the back all the mon...</td>\n",
       "      <td>english</td>\n",
       "      <td>2016-10-27T01:49:27.168+03:00</td>\n",
       "      <td>100percentfedup.com</td>\n",
       "      <td>US</td>\n",
       "      <td>25689.0</td>\n",
       "      <td>Muslims BUSTED: They Stole Millions In Gov’t B...</td>\n",
       "      <td>0.000</td>\n",
       "      <td>http://bb4sp.com/wp-content/uploads/2016/10/Fu...</td>\n",
       "      <td>0</td>\n",
       "      <td>1</td>\n",
       "      <td>0</td>\n",
       "      <td>0</td>\n",
       "      <td>0</td>\n",
       "      <td>bias</td>\n",
       "    </tr>\n",
       "    <tr>\n",
       "      <th>1</th>\n",
       "      <td>2bdc29d12605ef9cf3f09f9875040a7113be5d5b</td>\n",
       "      <td>0</td>\n",
       "      <td>reasoning with facts</td>\n",
       "      <td>2016-10-29T08:47:11.259+03:00</td>\n",
       "      <td>Re: Why Did Attorney General Loretta Lynch Ple...</td>\n",
       "      <td>Why Did Attorney General Loretta Lynch Plead T...</td>\n",
       "      <td>english</td>\n",
       "      <td>2016-10-29T08:47:11.259+03:00</td>\n",
       "      <td>100percentfedup.com</td>\n",
       "      <td>US</td>\n",
       "      <td>25689.0</td>\n",
       "      <td>Re: Why Did Attorney General Loretta Lynch Ple...</td>\n",
       "      <td>0.000</td>\n",
       "      <td>http://bb4sp.com/wp-content/uploads/2016/10/Fu...</td>\n",
       "      <td>0</td>\n",
       "      <td>1</td>\n",
       "      <td>0</td>\n",
       "      <td>0</td>\n",
       "      <td>0</td>\n",
       "      <td>bias</td>\n",
       "    </tr>\n",
       "    <tr>\n",
       "      <th>2</th>\n",
       "      <td>c70e149fdd53de5e61c29281100b9de0ed268bc3</td>\n",
       "      <td>0</td>\n",
       "      <td>Barracuda Brigade</td>\n",
       "      <td>2016-10-31T01:41:49.479+02:00</td>\n",
       "      <td>BREAKING: Weiner Cooperating With FBI On Hilla...</td>\n",
       "      <td>Red State : \\nFox News Sunday reported this mo...</td>\n",
       "      <td>english</td>\n",
       "      <td>2016-10-31T01:41:49.479+02:00</td>\n",
       "      <td>100percentfedup.com</td>\n",
       "      <td>US</td>\n",
       "      <td>25689.0</td>\n",
       "      <td>BREAKING: Weiner Cooperating With FBI On Hilla...</td>\n",
       "      <td>0.000</td>\n",
       "      <td>http://bb4sp.com/wp-content/uploads/2016/10/Fu...</td>\n",
       "      <td>0</td>\n",
       "      <td>1</td>\n",
       "      <td>0</td>\n",
       "      <td>0</td>\n",
       "      <td>0</td>\n",
       "      <td>bias</td>\n",
       "    </tr>\n",
       "    <tr>\n",
       "      <th>3</th>\n",
       "      <td>7cf7c15731ac2a116dd7f629bd57ea468ed70284</td>\n",
       "      <td>0</td>\n",
       "      <td>Fed Up</td>\n",
       "      <td>2016-11-01T05:22:00.000+02:00</td>\n",
       "      <td>PIN DROP SPEECH BY FATHER OF DAUGHTER Kidnappe...</td>\n",
       "      <td>Email Kayla Mueller was a prisoner and torture...</td>\n",
       "      <td>english</td>\n",
       "      <td>2016-11-01T15:46:26.304+02:00</td>\n",
       "      <td>100percentfedup.com</td>\n",
       "      <td>US</td>\n",
       "      <td>25689.0</td>\n",
       "      <td>PIN DROP SPEECH BY FATHER OF DAUGHTER Kidnappe...</td>\n",
       "      <td>0.068</td>\n",
       "      <td>http://100percentfedup.com/wp-content/uploads/...</td>\n",
       "      <td>0</td>\n",
       "      <td>0</td>\n",
       "      <td>0</td>\n",
       "      <td>0</td>\n",
       "      <td>0</td>\n",
       "      <td>bias</td>\n",
       "    </tr>\n",
       "    <tr>\n",
       "      <th>4</th>\n",
       "      <td>0206b54719c7e241ffe0ad4315b808290dbe6c0f</td>\n",
       "      <td>0</td>\n",
       "      <td>Fed Up</td>\n",
       "      <td>2016-11-01T21:56:00.000+02:00</td>\n",
       "      <td>FANTASTIC! TRUMP'S 7 POINT PLAN To Reform Heal...</td>\n",
       "      <td>Email HEALTHCARE REFORM TO MAKE AMERICA GREAT ...</td>\n",
       "      <td>english</td>\n",
       "      <td>2016-11-01T23:59:42.266+02:00</td>\n",
       "      <td>100percentfedup.com</td>\n",
       "      <td>US</td>\n",
       "      <td>25689.0</td>\n",
       "      <td>FANTASTIC! TRUMP'S 7 POINT PLAN To Reform Heal...</td>\n",
       "      <td>0.865</td>\n",
       "      <td>http://100percentfedup.com/wp-content/uploads/...</td>\n",
       "      <td>0</td>\n",
       "      <td>0</td>\n",
       "      <td>0</td>\n",
       "      <td>0</td>\n",
       "      <td>0</td>\n",
       "      <td>bias</td>\n",
       "    </tr>\n",
       "  </tbody>\n",
       "</table>\n",
       "</div>"
      ],
      "text/plain": [
       "                                       uuid  ord_in_thread  \\\n",
       "0  6a175f46bcd24d39b3e962ad0f29936721db70db              0   \n",
       "1  2bdc29d12605ef9cf3f09f9875040a7113be5d5b              0   \n",
       "2  c70e149fdd53de5e61c29281100b9de0ed268bc3              0   \n",
       "3  7cf7c15731ac2a116dd7f629bd57ea468ed70284              0   \n",
       "4  0206b54719c7e241ffe0ad4315b808290dbe6c0f              0   \n",
       "\n",
       "                 author                      published  \\\n",
       "0     Barracuda Brigade  2016-10-26T21:41:00.000+03:00   \n",
       "1  reasoning with facts  2016-10-29T08:47:11.259+03:00   \n",
       "2     Barracuda Brigade  2016-10-31T01:41:49.479+02:00   \n",
       "3                Fed Up  2016-11-01T05:22:00.000+02:00   \n",
       "4                Fed Up  2016-11-01T21:56:00.000+02:00   \n",
       "\n",
       "                                               title  \\\n",
       "0  Muslims BUSTED: They Stole Millions In Gov’t B...   \n",
       "1  Re: Why Did Attorney General Loretta Lynch Ple...   \n",
       "2  BREAKING: Weiner Cooperating With FBI On Hilla...   \n",
       "3  PIN DROP SPEECH BY FATHER OF DAUGHTER Kidnappe...   \n",
       "4  FANTASTIC! TRUMP'S 7 POINT PLAN To Reform Heal...   \n",
       "\n",
       "                                                text language  \\\n",
       "0  Print They should pay all the back all the mon...  english   \n",
       "1  Why Did Attorney General Loretta Lynch Plead T...  english   \n",
       "2  Red State : \\nFox News Sunday reported this mo...  english   \n",
       "3  Email Kayla Mueller was a prisoner and torture...  english   \n",
       "4  Email HEALTHCARE REFORM TO MAKE AMERICA GREAT ...  english   \n",
       "\n",
       "                         crawled             site_url country  domain_rank  \\\n",
       "0  2016-10-27T01:49:27.168+03:00  100percentfedup.com      US      25689.0   \n",
       "1  2016-10-29T08:47:11.259+03:00  100percentfedup.com      US      25689.0   \n",
       "2  2016-10-31T01:41:49.479+02:00  100percentfedup.com      US      25689.0   \n",
       "3  2016-11-01T15:46:26.304+02:00  100percentfedup.com      US      25689.0   \n",
       "4  2016-11-01T23:59:42.266+02:00  100percentfedup.com      US      25689.0   \n",
       "\n",
       "                                        thread_title  spam_score  \\\n",
       "0  Muslims BUSTED: They Stole Millions In Gov’t B...       0.000   \n",
       "1  Re: Why Did Attorney General Loretta Lynch Ple...       0.000   \n",
       "2  BREAKING: Weiner Cooperating With FBI On Hilla...       0.000   \n",
       "3  PIN DROP SPEECH BY FATHER OF DAUGHTER Kidnappe...       0.068   \n",
       "4  FANTASTIC! TRUMP'S 7 POINT PLAN To Reform Heal...       0.865   \n",
       "\n",
       "                                        main_img_url  replies_count  \\\n",
       "0  http://bb4sp.com/wp-content/uploads/2016/10/Fu...              0   \n",
       "1  http://bb4sp.com/wp-content/uploads/2016/10/Fu...              0   \n",
       "2  http://bb4sp.com/wp-content/uploads/2016/10/Fu...              0   \n",
       "3  http://100percentfedup.com/wp-content/uploads/...              0   \n",
       "4  http://100percentfedup.com/wp-content/uploads/...              0   \n",
       "\n",
       "   participants_count  likes  comments  shares  type  \n",
       "0                   1      0         0       0  bias  \n",
       "1                   1      0         0       0  bias  \n",
       "2                   1      0         0       0  bias  \n",
       "3                   0      0         0       0  bias  \n",
       "4                   0      0         0       0  bias  "
      ]
     },
     "execution_count": 99,
     "metadata": {},
     "output_type": "execute_result"
    }
   ],
   "source": [
    "df_fake = pd.read_csv(\"Datasets/getting_real_about_fake_news/fake.csv\")\n",
    "df_fake.head()"
   ]
  },
  {
   "cell_type": "code",
   "execution_count": 100,
   "metadata": {},
   "outputs": [
    {
     "data": {
      "text/plain": [
       "(12999, 20)"
      ]
     },
     "execution_count": 100,
     "metadata": {},
     "output_type": "execute_result"
    }
   ],
   "source": [
    "df_fake.shape"
   ]
  },
  {
   "cell_type": "code",
   "execution_count": 101,
   "metadata": {},
   "outputs": [],
   "source": [
    "df_fake=df_fake[df_fake[\"language\"]==\"english\"]"
   ]
  },
  {
   "cell_type": "code",
   "execution_count": 102,
   "metadata": {},
   "outputs": [
    {
     "data": {
      "text/plain": [
       "(12403, 20)"
      ]
     },
     "execution_count": 102,
     "metadata": {},
     "output_type": "execute_result"
    }
   ],
   "source": [
    "df_fake.shape"
   ]
  },
  {
   "cell_type": "code",
   "execution_count": 103,
   "metadata": {},
   "outputs": [
    {
     "data": {
      "text/plain": [
       "(12403, 3)"
      ]
     },
     "execution_count": 103,
     "metadata": {},
     "output_type": "execute_result"
    }
   ],
   "source": [
    "df_fake_new=df_fake.loc[:,[\"site_url\",\"thread_title\"]]\n",
    "df_fake_new[\"target\"]=0\n",
    "df_fake_new.shape"
   ]
  },
  {
   "cell_type": "code",
   "execution_count": 104,
   "metadata": {},
   "outputs": [
    {
     "data": {
      "text/html": [
       "<div>\n",
       "<style scoped>\n",
       "    .dataframe tbody tr th:only-of-type {\n",
       "        vertical-align: middle;\n",
       "    }\n",
       "\n",
       "    .dataframe tbody tr th {\n",
       "        vertical-align: top;\n",
       "    }\n",
       "\n",
       "    .dataframe thead th {\n",
       "        text-align: right;\n",
       "    }\n",
       "</style>\n",
       "<table border=\"1\" class=\"dataframe\">\n",
       "  <thead>\n",
       "    <tr style=\"text-align: right;\">\n",
       "      <th></th>\n",
       "      <th>site_url</th>\n",
       "      <th>thread_title</th>\n",
       "      <th>target</th>\n",
       "    </tr>\n",
       "  </thead>\n",
       "  <tbody>\n",
       "    <tr>\n",
       "      <th>0</th>\n",
       "      <td>100percentfedup.com</td>\n",
       "      <td>Muslims BUSTED: They Stole Millions In Gov’t B...</td>\n",
       "      <td>0</td>\n",
       "    </tr>\n",
       "    <tr>\n",
       "      <th>1</th>\n",
       "      <td>100percentfedup.com</td>\n",
       "      <td>Re: Why Did Attorney General Loretta Lynch Ple...</td>\n",
       "      <td>0</td>\n",
       "    </tr>\n",
       "    <tr>\n",
       "      <th>2</th>\n",
       "      <td>100percentfedup.com</td>\n",
       "      <td>BREAKING: Weiner Cooperating With FBI On Hilla...</td>\n",
       "      <td>0</td>\n",
       "    </tr>\n",
       "    <tr>\n",
       "      <th>3</th>\n",
       "      <td>100percentfedup.com</td>\n",
       "      <td>PIN DROP SPEECH BY FATHER OF DAUGHTER Kidnappe...</td>\n",
       "      <td>0</td>\n",
       "    </tr>\n",
       "    <tr>\n",
       "      <th>4</th>\n",
       "      <td>100percentfedup.com</td>\n",
       "      <td>FANTASTIC! TRUMP'S 7 POINT PLAN To Reform Heal...</td>\n",
       "      <td>0</td>\n",
       "    </tr>\n",
       "  </tbody>\n",
       "</table>\n",
       "</div>"
      ],
      "text/plain": [
       "              site_url                                       thread_title  \\\n",
       "0  100percentfedup.com  Muslims BUSTED: They Stole Millions In Gov’t B...   \n",
       "1  100percentfedup.com  Re: Why Did Attorney General Loretta Lynch Ple...   \n",
       "2  100percentfedup.com  BREAKING: Weiner Cooperating With FBI On Hilla...   \n",
       "3  100percentfedup.com  PIN DROP SPEECH BY FATHER OF DAUGHTER Kidnappe...   \n",
       "4  100percentfedup.com  FANTASTIC! TRUMP'S 7 POINT PLAN To Reform Heal...   \n",
       "\n",
       "   target  \n",
       "0       0  \n",
       "1       0  \n",
       "2       0  \n",
       "3       0  \n",
       "4       0  "
      ]
     },
     "execution_count": 104,
     "metadata": {},
     "output_type": "execute_result"
    }
   ],
   "source": [
    "df_fake_new.head()"
   ]
  },
  {
   "cell_type": "code",
   "execution_count": 105,
   "metadata": {},
   "outputs": [
    {
     "data": {
      "text/html": [
       "<div>\n",
       "<style scoped>\n",
       "    .dataframe tbody tr th:only-of-type {\n",
       "        vertical-align: middle;\n",
       "    }\n",
       "\n",
       "    .dataframe tbody tr th {\n",
       "        vertical-align: top;\n",
       "    }\n",
       "\n",
       "    .dataframe thead th {\n",
       "        text-align: right;\n",
       "    }\n",
       "</style>\n",
       "<table border=\"1\" class=\"dataframe\">\n",
       "  <thead>\n",
       "    <tr style=\"text-align: right;\">\n",
       "      <th></th>\n",
       "      <th>news_url</th>\n",
       "      <th>title</th>\n",
       "      <th>target</th>\n",
       "    </tr>\n",
       "  </thead>\n",
       "  <tbody>\n",
       "    <tr>\n",
       "      <th>0</th>\n",
       "      <td>100percentfedup.com</td>\n",
       "      <td>Muslims BUSTED: They Stole Millions In Gov’t B...</td>\n",
       "      <td>0</td>\n",
       "    </tr>\n",
       "    <tr>\n",
       "      <th>1</th>\n",
       "      <td>100percentfedup.com</td>\n",
       "      <td>Re: Why Did Attorney General Loretta Lynch Ple...</td>\n",
       "      <td>0</td>\n",
       "    </tr>\n",
       "    <tr>\n",
       "      <th>2</th>\n",
       "      <td>100percentfedup.com</td>\n",
       "      <td>BREAKING: Weiner Cooperating With FBI On Hilla...</td>\n",
       "      <td>0</td>\n",
       "    </tr>\n",
       "    <tr>\n",
       "      <th>3</th>\n",
       "      <td>100percentfedup.com</td>\n",
       "      <td>PIN DROP SPEECH BY FATHER OF DAUGHTER Kidnappe...</td>\n",
       "      <td>0</td>\n",
       "    </tr>\n",
       "    <tr>\n",
       "      <th>4</th>\n",
       "      <td>100percentfedup.com</td>\n",
       "      <td>FANTASTIC! TRUMP'S 7 POINT PLAN To Reform Heal...</td>\n",
       "      <td>0</td>\n",
       "    </tr>\n",
       "  </tbody>\n",
       "</table>\n",
       "</div>"
      ],
      "text/plain": [
       "              news_url                                              title  \\\n",
       "0  100percentfedup.com  Muslims BUSTED: They Stole Millions In Gov’t B...   \n",
       "1  100percentfedup.com  Re: Why Did Attorney General Loretta Lynch Ple...   \n",
       "2  100percentfedup.com  BREAKING: Weiner Cooperating With FBI On Hilla...   \n",
       "3  100percentfedup.com  PIN DROP SPEECH BY FATHER OF DAUGHTER Kidnappe...   \n",
       "4  100percentfedup.com  FANTASTIC! TRUMP'S 7 POINT PLAN To Reform Heal...   \n",
       "\n",
       "   target  \n",
       "0       0  \n",
       "1       0  \n",
       "2       0  \n",
       "3       0  \n",
       "4       0  "
      ]
     },
     "execution_count": 105,
     "metadata": {},
     "output_type": "execute_result"
    }
   ],
   "source": [
    "df_fake_new.rename(columns = {'site_url':'news_url','thread_title':'title'}, inplace = True)\n",
    "df_fake_new.head()"
   ]
  },
  {
   "cell_type": "code",
   "execution_count": 106,
   "metadata": {},
   "outputs": [
    {
     "data": {
      "text/plain": [
       "(45759, 3)"
      ]
     },
     "execution_count": 106,
     "metadata": {},
     "output_type": "execute_result"
    }
   ],
   "source": [
    "df_combined=pd.concat([df_combined,df_fake_new])\n",
    "df_combined.shape"
   ]
  },
  {
   "cell_type": "code",
   "execution_count": 107,
   "metadata": {},
   "outputs": [
    {
     "data": {
      "text/html": [
       "<div>\n",
       "<style scoped>\n",
       "    .dataframe tbody tr th:only-of-type {\n",
       "        vertical-align: middle;\n",
       "    }\n",
       "\n",
       "    .dataframe tbody tr th {\n",
       "        vertical-align: top;\n",
       "    }\n",
       "\n",
       "    .dataframe thead th {\n",
       "        text-align: right;\n",
       "    }\n",
       "</style>\n",
       "<table border=\"1\" class=\"dataframe\">\n",
       "  <thead>\n",
       "    <tr style=\"text-align: right;\">\n",
       "      <th></th>\n",
       "      <th>news_url</th>\n",
       "      <th>title</th>\n",
       "      <th>target</th>\n",
       "    </tr>\n",
       "  </thead>\n",
       "  <tbody>\n",
       "    <tr>\n",
       "      <th>0</th>\n",
       "      <td>speedtalk.com/forum/viewtopic.php?t=51650</td>\n",
       "      <td>BREAKING: First NFL Team Declares Bankruptcy O...</td>\n",
       "      <td>0</td>\n",
       "    </tr>\n",
       "    <tr>\n",
       "      <th>1</th>\n",
       "      <td>politics2020.info/index.php/2018/03/13/court-o...</td>\n",
       "      <td>Court Orders Obama To Pay $400 Million In Rest...</td>\n",
       "      <td>0</td>\n",
       "    </tr>\n",
       "    <tr>\n",
       "      <th>2</th>\n",
       "      <td>www.nscdscamps.org/blog/category/parenting/467...</td>\n",
       "      <td>UPDATE: Second Roy Moore Accuser Works For Mic...</td>\n",
       "      <td>0</td>\n",
       "    </tr>\n",
       "    <tr>\n",
       "      <th>3</th>\n",
       "      <td>https://howafrica.com/oscar-pistorius-attempts...</td>\n",
       "      <td>Oscar Pistorius Attempts To Commit Suicide</td>\n",
       "      <td>0</td>\n",
       "    </tr>\n",
       "    <tr>\n",
       "      <th>4</th>\n",
       "      <td>http://washingtonsources.org/trump-votes-for-d...</td>\n",
       "      <td>Trump Votes For Death Penalty For Being Gay</td>\n",
       "      <td>0</td>\n",
       "    </tr>\n",
       "  </tbody>\n",
       "</table>\n",
       "</div>"
      ],
      "text/plain": [
       "                                            news_url  \\\n",
       "0          speedtalk.com/forum/viewtopic.php?t=51650   \n",
       "1  politics2020.info/index.php/2018/03/13/court-o...   \n",
       "2  www.nscdscamps.org/blog/category/parenting/467...   \n",
       "3  https://howafrica.com/oscar-pistorius-attempts...   \n",
       "4  http://washingtonsources.org/trump-votes-for-d...   \n",
       "\n",
       "                                               title  target  \n",
       "0  BREAKING: First NFL Team Declares Bankruptcy O...       0  \n",
       "1  Court Orders Obama To Pay $400 Million In Rest...       0  \n",
       "2  UPDATE: Second Roy Moore Accuser Works For Mic...       0  \n",
       "3         Oscar Pistorius Attempts To Commit Suicide       0  \n",
       "4        Trump Votes For Death Penalty For Being Gay       0  "
      ]
     },
     "execution_count": 107,
     "metadata": {},
     "output_type": "execute_result"
    }
   ],
   "source": [
    "df_combined.head()"
   ]
  },
  {
   "cell_type": "code",
   "execution_count": 108,
   "metadata": {
    "scrolled": true
   },
   "outputs": [
    {
     "data": {
      "text/html": [
       "<div>\n",
       "<style scoped>\n",
       "    .dataframe tbody tr th:only-of-type {\n",
       "        vertical-align: middle;\n",
       "    }\n",
       "\n",
       "    .dataframe tbody tr th {\n",
       "        vertical-align: top;\n",
       "    }\n",
       "\n",
       "    .dataframe thead th {\n",
       "        text-align: right;\n",
       "    }\n",
       "</style>\n",
       "<table border=\"1\" class=\"dataframe\">\n",
       "  <thead>\n",
       "    <tr style=\"text-align: right;\">\n",
       "      <th></th>\n",
       "      <th>Unnamed: 0</th>\n",
       "      <th>type</th>\n",
       "      <th>fact_check_url</th>\n",
       "      <th>archieve</th>\n",
       "      <th>news_url</th>\n",
       "      <th>news_url2</th>\n",
       "      <th>news_url3</th>\n",
       "      <th>news_url4</th>\n",
       "      <th>news_url5</th>\n",
       "      <th>title</th>\n",
       "      <th>newstitle</th>\n",
       "      <th>content</th>\n",
       "      <th>abstract</th>\n",
       "      <th>publish_date</th>\n",
       "      <th>meta_keywords</th>\n",
       "    </tr>\n",
       "  </thead>\n",
       "  <tbody>\n",
       "    <tr>\n",
       "      <th>0</th>\n",
       "      <td>889</td>\n",
       "      <td>post</td>\n",
       "      <td>https://healthfeedback.org/claimreview/false-c...</td>\n",
       "      <td>https://archive.is/geT2g</td>\n",
       "      <td>https://www.facebook.com/drelizabethdc/posts/1...</td>\n",
       "      <td>NaN</td>\n",
       "      <td>NaN</td>\n",
       "      <td>NaN</td>\n",
       "      <td>NaN</td>\n",
       "      <td>The U.S. CDC quietly updated their numbers in ...</td>\n",
       "      <td>\"Log In or Sign Up to View\"</td>\n",
       "      <td>you must log in to continue ..</td>\n",
       "      <td>NaN</td>\n",
       "      <td>NaN</td>\n",
       "      <td>\"\"</td>\n",
       "    </tr>\n",
       "    <tr>\n",
       "      <th>1</th>\n",
       "      <td>890</td>\n",
       "      <td>post</td>\n",
       "      <td>https://factcheck.afp.com/trump-retweets-false...</td>\n",
       "      <td>http://archive.is/pZ2Pk</td>\n",
       "      <td>https://twitter.com/littllemel/status/12997914...</td>\n",
       "      <td>NaN</td>\n",
       "      <td>NaN</td>\n",
       "      <td>NaN</td>\n",
       "      <td>NaN</td>\n",
       "      <td>Social media posts shared thousands of times a...</td>\n",
       "      <td>\"\"</td>\n",
       "      <td>we 've detected that javascript is disabled in...</td>\n",
       "      <td>NaN</td>\n",
       "      <td>NaN</td>\n",
       "      <td>\"\"</td>\n",
       "    </tr>\n",
       "    <tr>\n",
       "      <th>2</th>\n",
       "      <td>891</td>\n",
       "      <td>NaN</td>\n",
       "      <td>https://www.factcheck.org/2020/09/cdc-did-not-...</td>\n",
       "      <td>https://projects.propublica.org/politwoops/twe...</td>\n",
       "      <td>NaN</td>\n",
       "      <td>NaN</td>\n",
       "      <td>NaN</td>\n",
       "      <td>NaN</td>\n",
       "      <td>NaN</td>\n",
       "      <td>The CDC updated the COVID-19 number to admit t...</td>\n",
       "      <td>NaN</td>\n",
       "      <td>NaN</td>\n",
       "      <td>NaN</td>\n",
       "      <td>NaN</td>\n",
       "      <td>NaN</td>\n",
       "    </tr>\n",
       "    <tr>\n",
       "      <th>3</th>\n",
       "      <td>892</td>\n",
       "      <td>post</td>\n",
       "      <td>https://healthfeedback.org/claimreview/masks-o...</td>\n",
       "      <td>https://archive.vn/k8PJk</td>\n",
       "      <td>https://www.facebook.com/120381895036072/posts...</td>\n",
       "      <td>NaN</td>\n",
       "      <td>NaN</td>\n",
       "      <td>NaN</td>\n",
       "      <td>NaN</td>\n",
       "      <td>Either masks work or they don’t; if masks work...</td>\n",
       "      <td>\"Log In or Sign Up to View\"</td>\n",
       "      <td>do you want to join facebook ?.</td>\n",
       "      <td>NaN</td>\n",
       "      <td>NaN</td>\n",
       "      <td>\"\"</td>\n",
       "    </tr>\n",
       "    <tr>\n",
       "      <th>4</th>\n",
       "      <td>893</td>\n",
       "      <td>article</td>\n",
       "      <td>https://healthfeedback.org/claimreview/human-d...</td>\n",
       "      <td>https://archive.is/Af8Xi</td>\n",
       "      <td>https://pieceofmindful.com/2020/04/06/bombshel...</td>\n",
       "      <td>NaN</td>\n",
       "      <td>NaN</td>\n",
       "      <td>NaN</td>\n",
       "      <td>NaN</td>\n",
       "      <td>The RT-PCR test for the virus that causes COVI...</td>\n",
       "      <td>\"BOMBSHELL: WHO Coronavirus PCR Test Primer Se...</td>\n",
       "      <td>this was important enough that i wanted to get...</td>\n",
       "      <td>this was important enough that i wanted to get...</td>\n",
       "      <td>2020-04-06T17:27:39+00:00</td>\n",
       "      <td>\"\"</td>\n",
       "    </tr>\n",
       "  </tbody>\n",
       "</table>\n",
       "</div>"
      ],
      "text/plain": [
       "   Unnamed: 0     type                                     fact_check_url  \\\n",
       "0         889     post  https://healthfeedback.org/claimreview/false-c...   \n",
       "1         890     post  https://factcheck.afp.com/trump-retweets-false...   \n",
       "2         891      NaN  https://www.factcheck.org/2020/09/cdc-did-not-...   \n",
       "3         892     post  https://healthfeedback.org/claimreview/masks-o...   \n",
       "4         893  article  https://healthfeedback.org/claimreview/human-d...   \n",
       "\n",
       "                                            archieve  \\\n",
       "0                           https://archive.is/geT2g   \n",
       "1                            http://archive.is/pZ2Pk   \n",
       "2  https://projects.propublica.org/politwoops/twe...   \n",
       "3                           https://archive.vn/k8PJk   \n",
       "4                           https://archive.is/Af8Xi   \n",
       "\n",
       "                                            news_url news_url2 news_url3  \\\n",
       "0  https://www.facebook.com/drelizabethdc/posts/1...       NaN       NaN   \n",
       "1  https://twitter.com/littllemel/status/12997914...       NaN       NaN   \n",
       "2                                                NaN       NaN       NaN   \n",
       "3  https://www.facebook.com/120381895036072/posts...       NaN       NaN   \n",
       "4  https://pieceofmindful.com/2020/04/06/bombshel...       NaN       NaN   \n",
       "\n",
       "  news_url4 news_url5                                              title  \\\n",
       "0       NaN       NaN  The U.S. CDC quietly updated their numbers in ...   \n",
       "1       NaN       NaN  Social media posts shared thousands of times a...   \n",
       "2       NaN       NaN  The CDC updated the COVID-19 number to admit t...   \n",
       "3       NaN       NaN  Either masks work or they don’t; if masks work...   \n",
       "4       NaN       NaN  The RT-PCR test for the virus that causes COVI...   \n",
       "\n",
       "                                           newstitle  \\\n",
       "0                        \"Log In or Sign Up to View\"   \n",
       "1                                                 \"\"   \n",
       "2                                                NaN   \n",
       "3                        \"Log In or Sign Up to View\"   \n",
       "4  \"BOMBSHELL: WHO Coronavirus PCR Test Primer Se...   \n",
       "\n",
       "                                             content  \\\n",
       "0                    you must log in to continue ..    \n",
       "1  we 've detected that javascript is disabled in...   \n",
       "2                                                NaN   \n",
       "3                   do you want to join facebook ?.    \n",
       "4  this was important enough that i wanted to get...   \n",
       "\n",
       "                                            abstract  \\\n",
       "0                                                NaN   \n",
       "1                                                NaN   \n",
       "2                                                NaN   \n",
       "3                                                NaN   \n",
       "4  this was important enough that i wanted to get...   \n",
       "\n",
       "                publish_date meta_keywords  \n",
       "0                        NaN            \"\"  \n",
       "1                        NaN            \"\"  \n",
       "2                        NaN           NaN  \n",
       "3                        NaN            \"\"  \n",
       "4  2020-04-06T17:27:39+00:00            \"\"  "
      ]
     },
     "execution_count": 108,
     "metadata": {},
     "output_type": "execute_result"
    }
   ],
   "source": [
    "df_fake = pd.read_csv(\"Datasets/Covid 19/NewsFakeCOVID-19.csv\")\n",
    "df_fake.head()"
   ]
  },
  {
   "cell_type": "code",
   "execution_count": 109,
   "metadata": {},
   "outputs": [
    {
     "data": {
      "text/plain": [
       "(56, 15)"
      ]
     },
     "execution_count": 109,
     "metadata": {},
     "output_type": "execute_result"
    }
   ],
   "source": [
    "df_fake.shape"
   ]
  },
  {
   "cell_type": "code",
   "execution_count": 110,
   "metadata": {},
   "outputs": [
    {
     "data": {
      "text/plain": [
       "(53, 15)"
      ]
     },
     "execution_count": 110,
     "metadata": {},
     "output_type": "execute_result"
    }
   ],
   "source": [
    "df_fake = df_fake.dropna(subset = ['news_url'])\n",
    "df_fake = df_fake.dropna(subset = ['title'])\n",
    "df_fake.shape"
   ]
  },
  {
   "cell_type": "code",
   "execution_count": 111,
   "metadata": {},
   "outputs": [],
   "source": [
    "df_fake = df_fake.loc[:,['news_url','title']]"
   ]
  },
  {
   "cell_type": "code",
   "execution_count": 112,
   "metadata": {},
   "outputs": [
    {
     "data": {
      "text/html": [
       "<div>\n",
       "<style scoped>\n",
       "    .dataframe tbody tr th:only-of-type {\n",
       "        vertical-align: middle;\n",
       "    }\n",
       "\n",
       "    .dataframe tbody tr th {\n",
       "        vertical-align: top;\n",
       "    }\n",
       "\n",
       "    .dataframe thead th {\n",
       "        text-align: right;\n",
       "    }\n",
       "</style>\n",
       "<table border=\"1\" class=\"dataframe\">\n",
       "  <thead>\n",
       "    <tr style=\"text-align: right;\">\n",
       "      <th></th>\n",
       "      <th>news_url</th>\n",
       "      <th>title</th>\n",
       "      <th>target</th>\n",
       "    </tr>\n",
       "  </thead>\n",
       "  <tbody>\n",
       "    <tr>\n",
       "      <th>0</th>\n",
       "      <td>https://www.facebook.com/drelizabethdc/posts/1...</td>\n",
       "      <td>The U.S. CDC quietly updated their numbers in ...</td>\n",
       "      <td>0</td>\n",
       "    </tr>\n",
       "    <tr>\n",
       "      <th>1</th>\n",
       "      <td>https://twitter.com/littllemel/status/12997914...</td>\n",
       "      <td>Social media posts shared thousands of times a...</td>\n",
       "      <td>0</td>\n",
       "    </tr>\n",
       "    <tr>\n",
       "      <th>3</th>\n",
       "      <td>https://www.facebook.com/120381895036072/posts...</td>\n",
       "      <td>Either masks work or they don’t; if masks work...</td>\n",
       "      <td>0</td>\n",
       "    </tr>\n",
       "    <tr>\n",
       "      <th>4</th>\n",
       "      <td>https://pieceofmindful.com/2020/04/06/bombshel...</td>\n",
       "      <td>The RT-PCR test for the virus that causes COVI...</td>\n",
       "      <td>0</td>\n",
       "    </tr>\n",
       "    <tr>\n",
       "      <th>5</th>\n",
       "      <td>https://summit.news/2020/08/20/governor-of-mai...</td>\n",
       "      <td>The Governor of Maine has ordered restaurant s...</td>\n",
       "      <td>0</td>\n",
       "    </tr>\n",
       "  </tbody>\n",
       "</table>\n",
       "</div>"
      ],
      "text/plain": [
       "                                            news_url  \\\n",
       "0  https://www.facebook.com/drelizabethdc/posts/1...   \n",
       "1  https://twitter.com/littllemel/status/12997914...   \n",
       "3  https://www.facebook.com/120381895036072/posts...   \n",
       "4  https://pieceofmindful.com/2020/04/06/bombshel...   \n",
       "5  https://summit.news/2020/08/20/governor-of-mai...   \n",
       "\n",
       "                                               title  target  \n",
       "0  The U.S. CDC quietly updated their numbers in ...       0  \n",
       "1  Social media posts shared thousands of times a...       0  \n",
       "3  Either masks work or they don’t; if masks work...       0  \n",
       "4  The RT-PCR test for the virus that causes COVI...       0  \n",
       "5  The Governor of Maine has ordered restaurant s...       0  "
      ]
     },
     "execution_count": 112,
     "metadata": {},
     "output_type": "execute_result"
    }
   ],
   "source": [
    "df_fake['target'] = 0\n",
    "df_fake.head()"
   ]
  },
  {
   "cell_type": "code",
   "execution_count": 113,
   "metadata": {},
   "outputs": [
    {
     "data": {
      "text/plain": [
       "(45812, 3)"
      ]
     },
     "execution_count": 113,
     "metadata": {},
     "output_type": "execute_result"
    }
   ],
   "source": [
    "df_combined=pd.concat([df_combined,df_fake])\n",
    "df_combined.shape"
   ]
  },
  {
   "cell_type": "code",
   "execution_count": 114,
   "metadata": {
    "scrolled": true
   },
   "outputs": [
    {
     "data": {
      "text/html": [
       "<div>\n",
       "<style scoped>\n",
       "    .dataframe tbody tr th:only-of-type {\n",
       "        vertical-align: middle;\n",
       "    }\n",
       "\n",
       "    .dataframe tbody tr th {\n",
       "        vertical-align: top;\n",
       "    }\n",
       "\n",
       "    .dataframe thead th {\n",
       "        text-align: right;\n",
       "    }\n",
       "</style>\n",
       "<table border=\"1\" class=\"dataframe\">\n",
       "  <thead>\n",
       "    <tr style=\"text-align: right;\">\n",
       "      <th></th>\n",
       "      <th>Unnamed: 0</th>\n",
       "      <th>type</th>\n",
       "      <th>fact_check_url</th>\n",
       "      <th>archieve</th>\n",
       "      <th>news_url</th>\n",
       "      <th>news_url2</th>\n",
       "      <th>news_url3</th>\n",
       "      <th>news_url4</th>\n",
       "      <th>news_url5</th>\n",
       "      <th>title</th>\n",
       "      <th>newstitle</th>\n",
       "      <th>content</th>\n",
       "      <th>abstract</th>\n",
       "      <th>publish_date</th>\n",
       "      <th>meta_keywords</th>\n",
       "    </tr>\n",
       "  </thead>\n",
       "  <tbody>\n",
       "    <tr>\n",
       "      <th>0</th>\n",
       "      <td>0</td>\n",
       "      <td>post</td>\n",
       "      <td>https://factcheck.afp.com/false-advice-refusin...</td>\n",
       "      <td>https://perma.cc/J4N6-39D5</td>\n",
       "      <td>https://www.facebook.com/photo.php?fbid=551960...</td>\n",
       "      <td>NaN</td>\n",
       "      <td>NaN</td>\n",
       "      <td>NaN</td>\n",
       "      <td>NaN</td>\n",
       "      <td>Facebook posts shared in at least three countr...</td>\n",
       "      <td>NaN</td>\n",
       "      <td>NaN</td>\n",
       "      <td>NaN</td>\n",
       "      <td>NaN</td>\n",
       "      <td>NaN</td>\n",
       "    </tr>\n",
       "    <tr>\n",
       "      <th>1</th>\n",
       "      <td>1</td>\n",
       "      <td>article</td>\n",
       "      <td>https://www.politifact.com/factchecks/2020/apr...</td>\n",
       "      <td>NaN</td>\n",
       "      <td>http://legis.wisconsin.gov/assembly/republican...</td>\n",
       "      <td>NaN</td>\n",
       "      <td>NaN</td>\n",
       "      <td>NaN</td>\n",
       "      <td>NaN</td>\n",
       "      <td>Wisconsin is Òclearly seeing a decline in COVI...</td>\n",
       "      <td>\"Wisconsin Legislature Takes Gov. Evers to Court\"</td>\n",
       "      <td>speaker robin vos r rochester and senate major...</td>\n",
       "      <td>NaN</td>\n",
       "      <td>NaN</td>\n",
       "      <td>\"\"</td>\n",
       "    </tr>\n",
       "    <tr>\n",
       "      <th>2</th>\n",
       "      <td>2</td>\n",
       "      <td>post</td>\n",
       "      <td>https://factcheck.afp.com/posts-claim-children...</td>\n",
       "      <td>https://perma.cc/V4HX-M2XJ</td>\n",
       "      <td>https://www.facebook.com/iAmJessenia/photos/a....</td>\n",
       "      <td>NaN</td>\n",
       "      <td>NaN</td>\n",
       "      <td>NaN</td>\n",
       "      <td>NaN</td>\n",
       "      <td>Facebook posts claim a child who is infected w...</td>\n",
       "      <td>NaN</td>\n",
       "      <td>NaN</td>\n",
       "      <td>NaN</td>\n",
       "      <td>NaN</td>\n",
       "      <td>NaN</td>\n",
       "    </tr>\n",
       "    <tr>\n",
       "      <th>3</th>\n",
       "      <td>3</td>\n",
       "      <td>post</td>\n",
       "      <td>https://checkyourfact.com/2020/04/20/fact-chec...</td>\n",
       "      <td>NaN</td>\n",
       "      <td>https://www.facebook.com/kokernagnews/photos/a...</td>\n",
       "      <td>NaN</td>\n",
       "      <td>NaN</td>\n",
       "      <td>NaN</td>\n",
       "      <td>NaN</td>\n",
       "      <td>IndiaÕs Ministry of Home Affairs banning citiz...</td>\n",
       "      <td>NaN</td>\n",
       "      <td>NaN</td>\n",
       "      <td>NaN</td>\n",
       "      <td>NaN</td>\n",
       "      <td>NaN</td>\n",
       "    </tr>\n",
       "    <tr>\n",
       "      <th>4</th>\n",
       "      <td>5</td>\n",
       "      <td>post</td>\n",
       "      <td>https://checkyourfact.com/2020/04/20/fact-chec...</td>\n",
       "      <td>NaN</td>\n",
       "      <td>https://www.facebook.com/photo.php?fbid=102193...</td>\n",
       "      <td>NaN</td>\n",
       "      <td>NaN</td>\n",
       "      <td>NaN</td>\n",
       "      <td>NaN</td>\n",
       "      <td>42 Democratic senators, plus two Independents,...</td>\n",
       "      <td>NaN</td>\n",
       "      <td>NaN</td>\n",
       "      <td>NaN</td>\n",
       "      <td>NaN</td>\n",
       "      <td>NaN</td>\n",
       "    </tr>\n",
       "  </tbody>\n",
       "</table>\n",
       "</div>"
      ],
      "text/plain": [
       "   Unnamed: 0     type                                     fact_check_url  \\\n",
       "0           0     post  https://factcheck.afp.com/false-advice-refusin...   \n",
       "1           1  article  https://www.politifact.com/factchecks/2020/apr...   \n",
       "2           2     post  https://factcheck.afp.com/posts-claim-children...   \n",
       "3           3     post  https://checkyourfact.com/2020/04/20/fact-chec...   \n",
       "4           5     post  https://checkyourfact.com/2020/04/20/fact-chec...   \n",
       "\n",
       "                     archieve  \\\n",
       "0  https://perma.cc/J4N6-39D5   \n",
       "1                         NaN   \n",
       "2  https://perma.cc/V4HX-M2XJ   \n",
       "3                         NaN   \n",
       "4                         NaN   \n",
       "\n",
       "                                            news_url news_url2 news_url3  \\\n",
       "0  https://www.facebook.com/photo.php?fbid=551960...       NaN       NaN   \n",
       "1  http://legis.wisconsin.gov/assembly/republican...       NaN       NaN   \n",
       "2  https://www.facebook.com/iAmJessenia/photos/a....       NaN       NaN   \n",
       "3  https://www.facebook.com/kokernagnews/photos/a...       NaN       NaN   \n",
       "4  https://www.facebook.com/photo.php?fbid=102193...       NaN       NaN   \n",
       "\n",
       "  news_url4 news_url5                                              title  \\\n",
       "0       NaN       NaN  Facebook posts shared in at least three countr...   \n",
       "1       NaN       NaN  Wisconsin is Òclearly seeing a decline in COVI...   \n",
       "2       NaN       NaN  Facebook posts claim a child who is infected w...   \n",
       "3       NaN       NaN  IndiaÕs Ministry of Home Affairs banning citiz...   \n",
       "4       NaN       NaN  42 Democratic senators, plus two Independents,...   \n",
       "\n",
       "                                           newstitle  \\\n",
       "0                                                NaN   \n",
       "1  \"Wisconsin Legislature Takes Gov. Evers to Court\"   \n",
       "2                                                NaN   \n",
       "3                                                NaN   \n",
       "4                                                NaN   \n",
       "\n",
       "                                             content abstract publish_date  \\\n",
       "0                                                NaN      NaN          NaN   \n",
       "1  speaker robin vos r rochester and senate major...      NaN          NaN   \n",
       "2                                                NaN      NaN          NaN   \n",
       "3                                                NaN      NaN          NaN   \n",
       "4                                                NaN      NaN          NaN   \n",
       "\n",
       "  meta_keywords  \n",
       "0           NaN  \n",
       "1            \"\"  \n",
       "2           NaN  \n",
       "3           NaN  \n",
       "4           NaN  "
      ]
     },
     "execution_count": 114,
     "metadata": {},
     "output_type": "execute_result"
    }
   ],
   "source": [
    "df_fake = pd.read_csv(\"Datasets/Covid 19/NewsFakeCOVID-19_5.csv\")\n",
    "df_fake.head()"
   ]
  },
  {
   "cell_type": "code",
   "execution_count": 115,
   "metadata": {},
   "outputs": [
    {
     "data": {
      "text/plain": [
       "(572, 15)"
      ]
     },
     "execution_count": 115,
     "metadata": {},
     "output_type": "execute_result"
    }
   ],
   "source": [
    "df_fake.shape"
   ]
  },
  {
   "cell_type": "code",
   "execution_count": 116,
   "metadata": {},
   "outputs": [
    {
     "data": {
      "text/plain": [
       "(549, 15)"
      ]
     },
     "execution_count": 116,
     "metadata": {},
     "output_type": "execute_result"
    }
   ],
   "source": [
    "df_fake = df_fake.dropna(subset = ['news_url'])\n",
    "df_fake = df_fake.dropna(subset = ['title'])\n",
    "df_fake.shape"
   ]
  },
  {
   "cell_type": "code",
   "execution_count": 117,
   "metadata": {},
   "outputs": [],
   "source": [
    "df_fake = df_fake.loc[:,['news_url','title']]"
   ]
  },
  {
   "cell_type": "code",
   "execution_count": 118,
   "metadata": {},
   "outputs": [
    {
     "data": {
      "text/html": [
       "<div>\n",
       "<style scoped>\n",
       "    .dataframe tbody tr th:only-of-type {\n",
       "        vertical-align: middle;\n",
       "    }\n",
       "\n",
       "    .dataframe tbody tr th {\n",
       "        vertical-align: top;\n",
       "    }\n",
       "\n",
       "    .dataframe thead th {\n",
       "        text-align: right;\n",
       "    }\n",
       "</style>\n",
       "<table border=\"1\" class=\"dataframe\">\n",
       "  <thead>\n",
       "    <tr style=\"text-align: right;\">\n",
       "      <th></th>\n",
       "      <th>news_url</th>\n",
       "      <th>title</th>\n",
       "      <th>target</th>\n",
       "    </tr>\n",
       "  </thead>\n",
       "  <tbody>\n",
       "    <tr>\n",
       "      <th>0</th>\n",
       "      <td>https://www.facebook.com/photo.php?fbid=551960...</td>\n",
       "      <td>Facebook posts shared in at least three countr...</td>\n",
       "      <td>0</td>\n",
       "    </tr>\n",
       "    <tr>\n",
       "      <th>1</th>\n",
       "      <td>http://legis.wisconsin.gov/assembly/republican...</td>\n",
       "      <td>Wisconsin is Òclearly seeing a decline in COVI...</td>\n",
       "      <td>0</td>\n",
       "    </tr>\n",
       "    <tr>\n",
       "      <th>2</th>\n",
       "      <td>https://www.facebook.com/iAmJessenia/photos/a....</td>\n",
       "      <td>Facebook posts claim a child who is infected w...</td>\n",
       "      <td>0</td>\n",
       "    </tr>\n",
       "    <tr>\n",
       "      <th>3</th>\n",
       "      <td>https://www.facebook.com/kokernagnews/photos/a...</td>\n",
       "      <td>IndiaÕs Ministry of Home Affairs banning citiz...</td>\n",
       "      <td>0</td>\n",
       "    </tr>\n",
       "    <tr>\n",
       "      <th>4</th>\n",
       "      <td>https://www.facebook.com/photo.php?fbid=102193...</td>\n",
       "      <td>42 Democratic senators, plus two Independents,...</td>\n",
       "      <td>0</td>\n",
       "    </tr>\n",
       "  </tbody>\n",
       "</table>\n",
       "</div>"
      ],
      "text/plain": [
       "                                            news_url  \\\n",
       "0  https://www.facebook.com/photo.php?fbid=551960...   \n",
       "1  http://legis.wisconsin.gov/assembly/republican...   \n",
       "2  https://www.facebook.com/iAmJessenia/photos/a....   \n",
       "3  https://www.facebook.com/kokernagnews/photos/a...   \n",
       "4  https://www.facebook.com/photo.php?fbid=102193...   \n",
       "\n",
       "                                               title  target  \n",
       "0  Facebook posts shared in at least three countr...       0  \n",
       "1  Wisconsin is Òclearly seeing a decline in COVI...       0  \n",
       "2  Facebook posts claim a child who is infected w...       0  \n",
       "3  IndiaÕs Ministry of Home Affairs banning citiz...       0  \n",
       "4  42 Democratic senators, plus two Independents,...       0  "
      ]
     },
     "execution_count": 118,
     "metadata": {},
     "output_type": "execute_result"
    }
   ],
   "source": [
    "df_fake['target'] = 0\n",
    "df_fake.head()"
   ]
  },
  {
   "cell_type": "code",
   "execution_count": 119,
   "metadata": {},
   "outputs": [
    {
     "data": {
      "text/plain": [
       "(46361, 3)"
      ]
     },
     "execution_count": 119,
     "metadata": {},
     "output_type": "execute_result"
    }
   ],
   "source": [
    "df_combined=pd.concat([df_combined,df_fake])\n",
    "df_combined.shape"
   ]
  },
  {
   "cell_type": "code",
   "execution_count": 120,
   "metadata": {
    "scrolled": true
   },
   "outputs": [
    {
     "data": {
      "text/html": [
       "<div>\n",
       "<style scoped>\n",
       "    .dataframe tbody tr th:only-of-type {\n",
       "        vertical-align: middle;\n",
       "    }\n",
       "\n",
       "    .dataframe tbody tr th {\n",
       "        vertical-align: top;\n",
       "    }\n",
       "\n",
       "    .dataframe thead th {\n",
       "        text-align: right;\n",
       "    }\n",
       "</style>\n",
       "<table border=\"1\" class=\"dataframe\">\n",
       "  <thead>\n",
       "    <tr style=\"text-align: right;\">\n",
       "      <th></th>\n",
       "      <th>Unnamed: 0</th>\n",
       "      <th>type</th>\n",
       "      <th>fact_check_url</th>\n",
       "      <th>archieve</th>\n",
       "      <th>news_url</th>\n",
       "      <th>news_url2</th>\n",
       "      <th>news_url3</th>\n",
       "      <th>news_url4</th>\n",
       "      <th>news_url5</th>\n",
       "      <th>title</th>\n",
       "      <th>newstitle</th>\n",
       "      <th>content</th>\n",
       "      <th>abstract</th>\n",
       "      <th>publish_date</th>\n",
       "      <th>meta_keywords</th>\n",
       "    </tr>\n",
       "  </thead>\n",
       "  <tbody>\n",
       "    <tr>\n",
       "      <th>0</th>\n",
       "      <td>623</td>\n",
       "      <td>post</td>\n",
       "      <td>https://www.factcheck.org/2020/07/face-mask-ex...</td>\n",
       "      <td>http://archive.is/LC508</td>\n",
       "      <td>https://www.facebook.com/tednugent/photos/a.10...</td>\n",
       "      <td>NaN</td>\n",
       "      <td>NaN</td>\n",
       "      <td>NaN</td>\n",
       "      <td>NaN</td>\n",
       "      <td>A “face mask exempt card” shared on social med...</td>\n",
       "      <td>\"Ted Nugent\"</td>\n",
       "      <td>snag limbrats that daddy 22s out of the toweri...</td>\n",
       "      <td>ted nugent added a new photo ..</td>\n",
       "      <td>NaN</td>\n",
       "      <td>\"\"</td>\n",
       "    </tr>\n",
       "    <tr>\n",
       "      <th>1</th>\n",
       "      <td>624</td>\n",
       "      <td>post</td>\n",
       "      <td>https://www.factcheck.org/2020/07/video-presen...</td>\n",
       "      <td>http://archive.is/l3qLv</td>\n",
       "      <td>https://www.facebook.com/jeff.neff.528/videos/...</td>\n",
       "      <td>NaN</td>\n",
       "      <td>NaN</td>\n",
       "      <td>NaN</td>\n",
       "      <td>NaN</td>\n",
       "      <td>A test on video with a gas detector shows that...</td>\n",
       "      <td>\"Jeff\"</td>\n",
       "      <td>see more of jeff neff on facebook.</td>\n",
       "      <td>face masks you decide. this is worth a few min...</td>\n",
       "      <td>NaN</td>\n",
       "      <td>\"\"</td>\n",
       "    </tr>\n",
       "    <tr>\n",
       "      <th>2</th>\n",
       "      <td>625</td>\n",
       "      <td>post</td>\n",
       "      <td>https://www.factcheck.org/2020/06/painting-of-...</td>\n",
       "      <td>http://archive.is/vv6OB</td>\n",
       "      <td>https://twitter.com/SexCounseling/status/12764...</td>\n",
       "      <td>https://www.facebook.com/photo.php?fbid=102138...</td>\n",
       "      <td>https://www.facebook.com/112390917148814/posts...</td>\n",
       "      <td>NaN</td>\n",
       "      <td>NaN</td>\n",
       "      <td>A painting depicting children in face masks wa...</td>\n",
       "      <td>\"\"</td>\n",
       "      <td>we 've detected that javascript is disabled in...</td>\n",
       "      <td>NaN</td>\n",
       "      <td>NaN</td>\n",
       "      <td>\"\"</td>\n",
       "    </tr>\n",
       "    <tr>\n",
       "      <th>3</th>\n",
       "      <td>626</td>\n",
       "      <td>article</td>\n",
       "      <td>https://healthfeedback.org/claimreview/contrar...</td>\n",
       "      <td>https://archive.is/51Jn0</td>\n",
       "      <td>https://www.wakingtimes.com/2020/05/15/bill-ga...</td>\n",
       "      <td>NaN</td>\n",
       "      <td>NaN</td>\n",
       "      <td>NaN</td>\n",
       "      <td>NaN</td>\n",
       "      <td>According to Bill Gates the COVID-19 RNA vacci...</td>\n",
       "      <td>\"403 Forbidden\"</td>\n",
       "      <td>NaN</td>\n",
       "      <td>NaN</td>\n",
       "      <td>NaN</td>\n",
       "      <td>\"\"</td>\n",
       "    </tr>\n",
       "    <tr>\n",
       "      <th>4</th>\n",
       "      <td>627</td>\n",
       "      <td>post</td>\n",
       "      <td>https://www.factcheck.org/2020/06/meme-misrepr...</td>\n",
       "      <td>NaN</td>\n",
       "      <td>https://www.facebook.com/photo.php?fbid=424048...</td>\n",
       "      <td>NaN</td>\n",
       "      <td>NaN</td>\n",
       "      <td>NaN</td>\n",
       "      <td>NaN</td>\n",
       "      <td>Meme shows Florida Surgeon General saying: Eve...</td>\n",
       "      <td>\"Jeff Cloud\"</td>\n",
       "      <td>see more of jeff cloud on facebook.</td>\n",
       "      <td>it 's all coming out now .....</td>\n",
       "      <td>NaN</td>\n",
       "      <td>\"\"</td>\n",
       "    </tr>\n",
       "  </tbody>\n",
       "</table>\n",
       "</div>"
      ],
      "text/plain": [
       "   Unnamed: 0     type                                     fact_check_url  \\\n",
       "0         623     post  https://www.factcheck.org/2020/07/face-mask-ex...   \n",
       "1         624     post  https://www.factcheck.org/2020/07/video-presen...   \n",
       "2         625     post  https://www.factcheck.org/2020/06/painting-of-...   \n",
       "3         626  article  https://healthfeedback.org/claimreview/contrar...   \n",
       "4         627     post  https://www.factcheck.org/2020/06/meme-misrepr...   \n",
       "\n",
       "                   archieve  \\\n",
       "0   http://archive.is/LC508   \n",
       "1   http://archive.is/l3qLv   \n",
       "2   http://archive.is/vv6OB   \n",
       "3  https://archive.is/51Jn0   \n",
       "4                       NaN   \n",
       "\n",
       "                                            news_url  \\\n",
       "0  https://www.facebook.com/tednugent/photos/a.10...   \n",
       "1  https://www.facebook.com/jeff.neff.528/videos/...   \n",
       "2  https://twitter.com/SexCounseling/status/12764...   \n",
       "3  https://www.wakingtimes.com/2020/05/15/bill-ga...   \n",
       "4  https://www.facebook.com/photo.php?fbid=424048...   \n",
       "\n",
       "                                           news_url2  \\\n",
       "0                                                NaN   \n",
       "1                                                NaN   \n",
       "2  https://www.facebook.com/photo.php?fbid=102138...   \n",
       "3                                                NaN   \n",
       "4                                                NaN   \n",
       "\n",
       "                                           news_url3 news_url4 news_url5  \\\n",
       "0                                                NaN       NaN       NaN   \n",
       "1                                                NaN       NaN       NaN   \n",
       "2  https://www.facebook.com/112390917148814/posts...       NaN       NaN   \n",
       "3                                                NaN       NaN       NaN   \n",
       "4                                                NaN       NaN       NaN   \n",
       "\n",
       "                                               title        newstitle  \\\n",
       "0  A “face mask exempt card” shared on social med...     \"Ted Nugent\"   \n",
       "1  A test on video with a gas detector shows that...           \"Jeff\"   \n",
       "2  A painting depicting children in face masks wa...               \"\"   \n",
       "3  According to Bill Gates the COVID-19 RNA vacci...  \"403 Forbidden\"   \n",
       "4  Meme shows Florida Surgeon General saying: Eve...     \"Jeff Cloud\"   \n",
       "\n",
       "                                             content  \\\n",
       "0  snag limbrats that daddy 22s out of the toweri...   \n",
       "1                see more of jeff neff on facebook.    \n",
       "2  we 've detected that javascript is disabled in...   \n",
       "3                                                NaN   \n",
       "4               see more of jeff cloud on facebook.    \n",
       "\n",
       "                                            abstract publish_date  \\\n",
       "0                   ted nugent added a new photo ..           NaN   \n",
       "1  face masks you decide. this is worth a few min...          NaN   \n",
       "2                                                NaN          NaN   \n",
       "3                                                NaN          NaN   \n",
       "4                    it 's all coming out now .....           NaN   \n",
       "\n",
       "  meta_keywords  \n",
       "0            \"\"  \n",
       "1            \"\"  \n",
       "2            \"\"  \n",
       "3            \"\"  \n",
       "4            \"\"  "
      ]
     },
     "execution_count": 120,
     "metadata": {},
     "output_type": "execute_result"
    }
   ],
   "source": [
    "df_fake = pd.read_csv(\"Datasets/Covid 19/NewsFakeCOVID-19_7.csv\")\n",
    "df_fake.head()"
   ]
  },
  {
   "cell_type": "code",
   "execution_count": 121,
   "metadata": {},
   "outputs": [
    {
     "data": {
      "text/plain": [
       "(266, 15)"
      ]
     },
     "execution_count": 121,
     "metadata": {},
     "output_type": "execute_result"
    }
   ],
   "source": [
    "df_fake.shape"
   ]
  },
  {
   "cell_type": "code",
   "execution_count": 122,
   "metadata": {},
   "outputs": [
    {
     "data": {
      "text/plain": [
       "(252, 15)"
      ]
     },
     "execution_count": 122,
     "metadata": {},
     "output_type": "execute_result"
    }
   ],
   "source": [
    "df_fake = df_fake.dropna(subset = ['news_url'])\n",
    "df_fake = df_fake.dropna(subset = ['title'])\n",
    "df_fake.shape"
   ]
  },
  {
   "cell_type": "code",
   "execution_count": 123,
   "metadata": {},
   "outputs": [],
   "source": [
    "df_fake = df_fake.loc[:,['news_url','title']]"
   ]
  },
  {
   "cell_type": "code",
   "execution_count": 125,
   "metadata": {},
   "outputs": [
    {
     "data": {
      "text/html": [
       "<div>\n",
       "<style scoped>\n",
       "    .dataframe tbody tr th:only-of-type {\n",
       "        vertical-align: middle;\n",
       "    }\n",
       "\n",
       "    .dataframe tbody tr th {\n",
       "        vertical-align: top;\n",
       "    }\n",
       "\n",
       "    .dataframe thead th {\n",
       "        text-align: right;\n",
       "    }\n",
       "</style>\n",
       "<table border=\"1\" class=\"dataframe\">\n",
       "  <thead>\n",
       "    <tr style=\"text-align: right;\">\n",
       "      <th></th>\n",
       "      <th>news_url</th>\n",
       "      <th>title</th>\n",
       "      <th>target</th>\n",
       "    </tr>\n",
       "  </thead>\n",
       "  <tbody>\n",
       "    <tr>\n",
       "      <th>0</th>\n",
       "      <td>https://www.facebook.com/tednugent/photos/a.10...</td>\n",
       "      <td>A “face mask exempt card” shared on social med...</td>\n",
       "      <td>0</td>\n",
       "    </tr>\n",
       "    <tr>\n",
       "      <th>1</th>\n",
       "      <td>https://www.facebook.com/jeff.neff.528/videos/...</td>\n",
       "      <td>A test on video with a gas detector shows that...</td>\n",
       "      <td>0</td>\n",
       "    </tr>\n",
       "    <tr>\n",
       "      <th>2</th>\n",
       "      <td>https://twitter.com/SexCounseling/status/12764...</td>\n",
       "      <td>A painting depicting children in face masks wa...</td>\n",
       "      <td>0</td>\n",
       "    </tr>\n",
       "    <tr>\n",
       "      <th>3</th>\n",
       "      <td>https://www.wakingtimes.com/2020/05/15/bill-ga...</td>\n",
       "      <td>According to Bill Gates the COVID-19 RNA vacci...</td>\n",
       "      <td>0</td>\n",
       "    </tr>\n",
       "    <tr>\n",
       "      <th>4</th>\n",
       "      <td>https://www.facebook.com/photo.php?fbid=424048...</td>\n",
       "      <td>Meme shows Florida Surgeon General saying: Eve...</td>\n",
       "      <td>0</td>\n",
       "    </tr>\n",
       "  </tbody>\n",
       "</table>\n",
       "</div>"
      ],
      "text/plain": [
       "                                            news_url  \\\n",
       "0  https://www.facebook.com/tednugent/photos/a.10...   \n",
       "1  https://www.facebook.com/jeff.neff.528/videos/...   \n",
       "2  https://twitter.com/SexCounseling/status/12764...   \n",
       "3  https://www.wakingtimes.com/2020/05/15/bill-ga...   \n",
       "4  https://www.facebook.com/photo.php?fbid=424048...   \n",
       "\n",
       "                                               title  target  \n",
       "0  A “face mask exempt card” shared on social med...       0  \n",
       "1  A test on video with a gas detector shows that...       0  \n",
       "2  A painting depicting children in face masks wa...       0  \n",
       "3  According to Bill Gates the COVID-19 RNA vacci...       0  \n",
       "4  Meme shows Florida Surgeon General saying: Eve...       0  "
      ]
     },
     "execution_count": 125,
     "metadata": {},
     "output_type": "execute_result"
    }
   ],
   "source": [
    "df_fake['target'] = 0\n",
    "df_fake.head()"
   ]
  },
  {
   "cell_type": "code",
   "execution_count": 126,
   "metadata": {},
   "outputs": [
    {
     "data": {
      "text/plain": [
       "(46613, 3)"
      ]
     },
     "execution_count": 126,
     "metadata": {},
     "output_type": "execute_result"
    }
   ],
   "source": [
    "df_combined=pd.concat([df_combined,df_fake])\n",
    "df_combined.shape"
   ]
  },
  {
   "cell_type": "code",
   "execution_count": 129,
   "metadata": {
    "scrolled": true
   },
   "outputs": [
    {
     "data": {
      "text/html": [
       "<div>\n",
       "<style scoped>\n",
       "    .dataframe tbody tr th:only-of-type {\n",
       "        vertical-align: middle;\n",
       "    }\n",
       "\n",
       "    .dataframe tbody tr th {\n",
       "        vertical-align: top;\n",
       "    }\n",
       "\n",
       "    .dataframe thead th {\n",
       "        text-align: right;\n",
       "    }\n",
       "</style>\n",
       "<table border=\"1\" class=\"dataframe\">\n",
       "  <thead>\n",
       "    <tr style=\"text-align: right;\">\n",
       "      <th></th>\n",
       "      <th>Unnamed: 0</th>\n",
       "      <th>type</th>\n",
       "      <th>fact_check_url</th>\n",
       "      <th>news_url</th>\n",
       "      <th>title</th>\n",
       "      <th>newstitle</th>\n",
       "      <th>content</th>\n",
       "      <th>abstract</th>\n",
       "      <th>publish_date</th>\n",
       "      <th>meta_keywords</th>\n",
       "    </tr>\n",
       "  </thead>\n",
       "  <tbody>\n",
       "    <tr>\n",
       "      <th>0</th>\n",
       "      <td>2658</td>\n",
       "      <td>article</td>\n",
       "      <td>healthline.com</td>\n",
       "      <td>https://www.healthline.com/health-news/what-we...</td>\n",
       "      <td>What We Can Learn from the Resurgence of COVID...</td>\n",
       "      <td>\"What We Can Learn from the Resurgence of COVI...</td>\n",
       "      <td>experts say crowded beaches like this one in b...</td>\n",
       "      <td>experts say covid-19 cases have surged in spai...</td>\n",
       "      <td>NaN</td>\n",
       "      <td>\"spain resurgence covid19 coronavirus cases le...</td>\n",
       "    </tr>\n",
       "    <tr>\n",
       "      <th>1</th>\n",
       "      <td>2659</td>\n",
       "      <td>article</td>\n",
       "      <td>healthline.com</td>\n",
       "      <td>https://www.healthline.com/health-news/why-app...</td>\n",
       "      <td>Why Approving a COVID-19 Vaccine Too Early Cou...</td>\n",
       "      <td>\"Why Approving a COVID-19 Vaccine Too Early Co...</td>\n",
       "      <td>increasing number of healthcare experts say th...</td>\n",
       "      <td>increasing number of healthcare experts say th...</td>\n",
       "      <td>NaN</td>\n",
       "      <td>\"covid-19, coronavirus, viral infection, vacci...</td>\n",
       "    </tr>\n",
       "    <tr>\n",
       "      <th>2</th>\n",
       "      <td>2660</td>\n",
       "      <td>article</td>\n",
       "      <td>healthline.com</td>\n",
       "      <td>https://www.healthline.com/health-news/flu-all...</td>\n",
       "      <td>Not Sure You Have COVID-19? Here Are the Sympt...</td>\n",
       "      <td>\"Different Symptoms for Coronavirus, Flu, and ...</td>\n",
       "      <td>fatigue and body aches are symptoms of both fl...</td>\n",
       "      <td>fatigue and body aches are symptoms of both fl...</td>\n",
       "      <td>NaN</td>\n",
       "      <td>\"flu symptoms allergy symptoms coronavirus sym...</td>\n",
       "    </tr>\n",
       "    <tr>\n",
       "      <th>3</th>\n",
       "      <td>2661</td>\n",
       "      <td>article</td>\n",
       "      <td>healthline.com</td>\n",
       "      <td>https://www.healthline.com/health-news/flu-stu...</td>\n",
       "      <td>Flu Study Highlights Difficulty of Achieving C...</td>\n",
       "      <td>\"Flu Study Highlights Difficulty of Achieving ...</td>\n",
       "      <td>researchers say women are more likely than men...</td>\n",
       "      <td>researchers say women are more likely than men...</td>\n",
       "      <td>NaN</td>\n",
       "      <td>\"covid19 coronavirus vaccine 80 percent effect...</td>\n",
       "    </tr>\n",
       "    <tr>\n",
       "      <th>4</th>\n",
       "      <td>2662</td>\n",
       "      <td>article</td>\n",
       "      <td>healthline.com</td>\n",
       "      <td>https://www.healthline.com/health-news/resign-...</td>\n",
       "      <td>Resign or Return? The Dilemma Facing Classroom...</td>\n",
       "      <td>\"Resign or Return? The Dilemma for Classroom T...</td>\n",
       "      <td>some teachers have quit while others have sued...</td>\n",
       "      <td>as some schools are ordered to reopen many tea...</td>\n",
       "      <td>NaN</td>\n",
       "      <td>\"covid19 coronavirus school classrooms reopeni...</td>\n",
       "    </tr>\n",
       "  </tbody>\n",
       "</table>\n",
       "</div>"
      ],
      "text/plain": [
       "   Unnamed: 0     type  fact_check_url  \\\n",
       "0        2658  article  healthline.com   \n",
       "1        2659  article  healthline.com   \n",
       "2        2660  article  healthline.com   \n",
       "3        2661  article  healthline.com   \n",
       "4        2662  article  healthline.com   \n",
       "\n",
       "                                            news_url  \\\n",
       "0  https://www.healthline.com/health-news/what-we...   \n",
       "1  https://www.healthline.com/health-news/why-app...   \n",
       "2  https://www.healthline.com/health-news/flu-all...   \n",
       "3  https://www.healthline.com/health-news/flu-stu...   \n",
       "4  https://www.healthline.com/health-news/resign-...   \n",
       "\n",
       "                                               title  \\\n",
       "0  What We Can Learn from the Resurgence of COVID...   \n",
       "1  Why Approving a COVID-19 Vaccine Too Early Cou...   \n",
       "2  Not Sure You Have COVID-19? Here Are the Sympt...   \n",
       "3  Flu Study Highlights Difficulty of Achieving C...   \n",
       "4  Resign or Return? The Dilemma Facing Classroom...   \n",
       "\n",
       "                                           newstitle  \\\n",
       "0  \"What We Can Learn from the Resurgence of COVI...   \n",
       "1  \"Why Approving a COVID-19 Vaccine Too Early Co...   \n",
       "2  \"Different Symptoms for Coronavirus, Flu, and ...   \n",
       "3  \"Flu Study Highlights Difficulty of Achieving ...   \n",
       "4  \"Resign or Return? The Dilemma for Classroom T...   \n",
       "\n",
       "                                             content  \\\n",
       "0  experts say crowded beaches like this one in b...   \n",
       "1  increasing number of healthcare experts say th...   \n",
       "2  fatigue and body aches are symptoms of both fl...   \n",
       "3  researchers say women are more likely than men...   \n",
       "4  some teachers have quit while others have sued...   \n",
       "\n",
       "                                            abstract publish_date  \\\n",
       "0  experts say covid-19 cases have surged in spai...          NaN   \n",
       "1  increasing number of healthcare experts say th...          NaN   \n",
       "2  fatigue and body aches are symptoms of both fl...          NaN   \n",
       "3  researchers say women are more likely than men...          NaN   \n",
       "4  as some schools are ordered to reopen many tea...          NaN   \n",
       "\n",
       "                                       meta_keywords  \n",
       "0  \"spain resurgence covid19 coronavirus cases le...  \n",
       "1  \"covid-19, coronavirus, viral infection, vacci...  \n",
       "2  \"flu symptoms allergy symptoms coronavirus sym...  \n",
       "3  \"covid19 coronavirus vaccine 80 percent effect...  \n",
       "4  \"covid19 coronavirus school classrooms reopeni...  "
      ]
     },
     "execution_count": 129,
     "metadata": {},
     "output_type": "execute_result"
    }
   ],
   "source": [
    "df_real = pd.read_csv(\"Datasets/Covid 19/NewsRealCOVID-19.csv\")\n",
    "df_real.head()"
   ]
  },
  {
   "cell_type": "code",
   "execution_count": 130,
   "metadata": {},
   "outputs": [
    {
     "data": {
      "text/plain": [
       "(893, 10)"
      ]
     },
     "execution_count": 130,
     "metadata": {},
     "output_type": "execute_result"
    }
   ],
   "source": [
    "df_real.shape"
   ]
  },
  {
   "cell_type": "code",
   "execution_count": 131,
   "metadata": {},
   "outputs": [
    {
     "data": {
      "text/plain": [
       "(893, 10)"
      ]
     },
     "execution_count": 131,
     "metadata": {},
     "output_type": "execute_result"
    }
   ],
   "source": [
    "df_real = df_real.dropna(subset = ['news_url'])\n",
    "df_real = df_real.dropna(subset = ['title'])\n",
    "df_real.shape"
   ]
  },
  {
   "cell_type": "code",
   "execution_count": 132,
   "metadata": {},
   "outputs": [],
   "source": [
    "df_real = df_real.loc[:,['news_url','title']]"
   ]
  },
  {
   "cell_type": "code",
   "execution_count": 133,
   "metadata": {},
   "outputs": [
    {
     "data": {
      "text/html": [
       "<div>\n",
       "<style scoped>\n",
       "    .dataframe tbody tr th:only-of-type {\n",
       "        vertical-align: middle;\n",
       "    }\n",
       "\n",
       "    .dataframe tbody tr th {\n",
       "        vertical-align: top;\n",
       "    }\n",
       "\n",
       "    .dataframe thead th {\n",
       "        text-align: right;\n",
       "    }\n",
       "</style>\n",
       "<table border=\"1\" class=\"dataframe\">\n",
       "  <thead>\n",
       "    <tr style=\"text-align: right;\">\n",
       "      <th></th>\n",
       "      <th>news_url</th>\n",
       "      <th>title</th>\n",
       "      <th>target</th>\n",
       "    </tr>\n",
       "  </thead>\n",
       "  <tbody>\n",
       "    <tr>\n",
       "      <th>0</th>\n",
       "      <td>https://www.healthline.com/health-news/what-we...</td>\n",
       "      <td>What We Can Learn from the Resurgence of COVID...</td>\n",
       "      <td>1</td>\n",
       "    </tr>\n",
       "    <tr>\n",
       "      <th>1</th>\n",
       "      <td>https://www.healthline.com/health-news/why-app...</td>\n",
       "      <td>Why Approving a COVID-19 Vaccine Too Early Cou...</td>\n",
       "      <td>1</td>\n",
       "    </tr>\n",
       "    <tr>\n",
       "      <th>2</th>\n",
       "      <td>https://www.healthline.com/health-news/flu-all...</td>\n",
       "      <td>Not Sure You Have COVID-19? Here Are the Sympt...</td>\n",
       "      <td>1</td>\n",
       "    </tr>\n",
       "    <tr>\n",
       "      <th>3</th>\n",
       "      <td>https://www.healthline.com/health-news/flu-stu...</td>\n",
       "      <td>Flu Study Highlights Difficulty of Achieving C...</td>\n",
       "      <td>1</td>\n",
       "    </tr>\n",
       "    <tr>\n",
       "      <th>4</th>\n",
       "      <td>https://www.healthline.com/health-news/resign-...</td>\n",
       "      <td>Resign or Return? The Dilemma Facing Classroom...</td>\n",
       "      <td>1</td>\n",
       "    </tr>\n",
       "  </tbody>\n",
       "</table>\n",
       "</div>"
      ],
      "text/plain": [
       "                                            news_url  \\\n",
       "0  https://www.healthline.com/health-news/what-we...   \n",
       "1  https://www.healthline.com/health-news/why-app...   \n",
       "2  https://www.healthline.com/health-news/flu-all...   \n",
       "3  https://www.healthline.com/health-news/flu-stu...   \n",
       "4  https://www.healthline.com/health-news/resign-...   \n",
       "\n",
       "                                               title  target  \n",
       "0  What We Can Learn from the Resurgence of COVID...       1  \n",
       "1  Why Approving a COVID-19 Vaccine Too Early Cou...       1  \n",
       "2  Not Sure You Have COVID-19? Here Are the Sympt...       1  \n",
       "3  Flu Study Highlights Difficulty of Achieving C...       1  \n",
       "4  Resign or Return? The Dilemma Facing Classroom...       1  "
      ]
     },
     "execution_count": 133,
     "metadata": {},
     "output_type": "execute_result"
    }
   ],
   "source": [
    "df_real['target'] = 1\n",
    "df_real.head()"
   ]
  },
  {
   "cell_type": "code",
   "execution_count": 134,
   "metadata": {},
   "outputs": [
    {
     "data": {
      "text/plain": [
       "(47506, 3)"
      ]
     },
     "execution_count": 134,
     "metadata": {},
     "output_type": "execute_result"
    }
   ],
   "source": [
    "df_combined=pd.concat([df_combined,df_real])\n",
    "df_combined.shape"
   ]
  },
  {
   "cell_type": "code",
   "execution_count": 135,
   "metadata": {
    "scrolled": true
   },
   "outputs": [
    {
     "data": {
      "text/html": [
       "<div>\n",
       "<style scoped>\n",
       "    .dataframe tbody tr th:only-of-type {\n",
       "        vertical-align: middle;\n",
       "    }\n",
       "\n",
       "    .dataframe tbody tr th {\n",
       "        vertical-align: top;\n",
       "    }\n",
       "\n",
       "    .dataframe thead th {\n",
       "        text-align: right;\n",
       "    }\n",
       "</style>\n",
       "<table border=\"1\" class=\"dataframe\">\n",
       "  <thead>\n",
       "    <tr style=\"text-align: right;\">\n",
       "      <th></th>\n",
       "      <th>Unnamed: 0</th>\n",
       "      <th>type</th>\n",
       "      <th>fact_check_url</th>\n",
       "      <th>news_url</th>\n",
       "      <th>title</th>\n",
       "      <th>newstitle</th>\n",
       "      <th>content</th>\n",
       "      <th>abstract</th>\n",
       "      <th>publish_date</th>\n",
       "      <th>meta_keywords</th>\n",
       "    </tr>\n",
       "  </thead>\n",
       "  <tbody>\n",
       "    <tr>\n",
       "      <th>0</th>\n",
       "      <td>0</td>\n",
       "      <td>article</td>\n",
       "      <td>healthline.com</td>\n",
       "      <td>https://www.healthline.com/health-news/coronav...</td>\n",
       "      <td>Coronavirus Outbreak: Live Updates</td>\n",
       "      <td>\"Coronavirus Outbreak: Daily Updates\"</td>\n",
       "      <td>experts warn most states that are reopening st...</td>\n",
       "      <td>the new coronavirus disease outbreak first ide...</td>\n",
       "      <td>NaN</td>\n",
       "      <td>\"coronavirus outbreak, viral outbreak, viral i...</td>\n",
       "    </tr>\n",
       "    <tr>\n",
       "      <th>1</th>\n",
       "      <td>1</td>\n",
       "      <td>article</td>\n",
       "      <td>healthline.com</td>\n",
       "      <td>https://www.healthline.com/health-news/screen-...</td>\n",
       "      <td>Screen Time Doesn’t Hurt Kids’ Social Skills, ...</td>\n",
       "      <td>\"Screen Time Doesn't Hurt Kids' Social Skills,...</td>\n",
       "      <td>a new study finds an increase in screen time d...</td>\n",
       "      <td>new research found that school age children in...</td>\n",
       "      <td>NaN</td>\n",
       "      <td>\"screen time, child development, smartphones, ...</td>\n",
       "    </tr>\n",
       "    <tr>\n",
       "      <th>2</th>\n",
       "      <td>2</td>\n",
       "      <td>article</td>\n",
       "      <td>healthline.com</td>\n",
       "      <td>https://www.healthline.com/health-news/heres-e...</td>\n",
       "      <td>Here’s Exactly Where We Are with Vaccines and ...</td>\n",
       "      <td>\"Where We're at with Vaccines and Treatments f...</td>\n",
       "      <td>scientists around the world are working on a n...</td>\n",
       "      <td>scientists around the world are working on a n...</td>\n",
       "      <td>NaN</td>\n",
       "      <td>\"covid-19 coronavirus outbreak research progre...</td>\n",
       "    </tr>\n",
       "    <tr>\n",
       "      <th>3</th>\n",
       "      <td>3</td>\n",
       "      <td>article</td>\n",
       "      <td>healthline.com</td>\n",
       "      <td>https://www.healthline.com/health-news/heres-w...</td>\n",
       "      <td>Here’s What Happens to the Body After Contract...</td>\n",
       "      <td>\"Here's What Happens to the Body After Contrac...</td>\n",
       "      <td>coronaviruses cause respiratory illnesses so t...</td>\n",
       "      <td>heres what we know so far about how covid-19 a...</td>\n",
       "      <td>NaN</td>\n",
       "      <td>\"coronavirus, viral infection, viral outbreak,...</td>\n",
       "    </tr>\n",
       "    <tr>\n",
       "      <th>4</th>\n",
       "      <td>4</td>\n",
       "      <td>article</td>\n",
       "      <td>healthline.com</td>\n",
       "      <td>https://www.healthline.com/health-news/why-you...</td>\n",
       "      <td>Why You Should Be Skeptical of Early Results o...</td>\n",
       "      <td>\"Why You Should Be Skeptical of Leaked Results...</td>\n",
       "      <td>medical experts are studying if remdesivir can...</td>\n",
       "      <td>with no approved treatment specific for covid-...</td>\n",
       "      <td>NaN</td>\n",
       "      <td>\"covid-19, covornavirus, novel coronavirus, vi...</td>\n",
       "    </tr>\n",
       "  </tbody>\n",
       "</table>\n",
       "</div>"
      ],
      "text/plain": [
       "   Unnamed: 0     type  fact_check_url  \\\n",
       "0           0  article  healthline.com   \n",
       "1           1  article  healthline.com   \n",
       "2           2  article  healthline.com   \n",
       "3           3  article  healthline.com   \n",
       "4           4  article  healthline.com   \n",
       "\n",
       "                                            news_url  \\\n",
       "0  https://www.healthline.com/health-news/coronav...   \n",
       "1  https://www.healthline.com/health-news/screen-...   \n",
       "2  https://www.healthline.com/health-news/heres-e...   \n",
       "3  https://www.healthline.com/health-news/heres-w...   \n",
       "4  https://www.healthline.com/health-news/why-you...   \n",
       "\n",
       "                                               title  \\\n",
       "0                 Coronavirus Outbreak: Live Updates   \n",
       "1  Screen Time Doesn’t Hurt Kids’ Social Skills, ...   \n",
       "2  Here’s Exactly Where We Are with Vaccines and ...   \n",
       "3  Here’s What Happens to the Body After Contract...   \n",
       "4  Why You Should Be Skeptical of Early Results o...   \n",
       "\n",
       "                                           newstitle  \\\n",
       "0              \"Coronavirus Outbreak: Daily Updates\"   \n",
       "1  \"Screen Time Doesn't Hurt Kids' Social Skills,...   \n",
       "2  \"Where We're at with Vaccines and Treatments f...   \n",
       "3  \"Here's What Happens to the Body After Contrac...   \n",
       "4  \"Why You Should Be Skeptical of Leaked Results...   \n",
       "\n",
       "                                             content  \\\n",
       "0  experts warn most states that are reopening st...   \n",
       "1  a new study finds an increase in screen time d...   \n",
       "2  scientists around the world are working on a n...   \n",
       "3  coronaviruses cause respiratory illnesses so t...   \n",
       "4  medical experts are studying if remdesivir can...   \n",
       "\n",
       "                                            abstract publish_date  \\\n",
       "0  the new coronavirus disease outbreak first ide...          NaN   \n",
       "1  new research found that school age children in...          NaN   \n",
       "2  scientists around the world are working on a n...          NaN   \n",
       "3  heres what we know so far about how covid-19 a...          NaN   \n",
       "4  with no approved treatment specific for covid-...          NaN   \n",
       "\n",
       "                                       meta_keywords  \n",
       "0  \"coronavirus outbreak, viral outbreak, viral i...  \n",
       "1  \"screen time, child development, smartphones, ...  \n",
       "2  \"covid-19 coronavirus outbreak research progre...  \n",
       "3  \"coronavirus, viral infection, viral outbreak,...  \n",
       "4  \"covid-19, covornavirus, novel coronavirus, vi...  "
      ]
     },
     "execution_count": 135,
     "metadata": {},
     "output_type": "execute_result"
    }
   ],
   "source": [
    "df_real = pd.read_csv(\"Datasets/Covid 19/NewsRealCOVID-19_5.csv\")\n",
    "df_real.head()"
   ]
  },
  {
   "cell_type": "code",
   "execution_count": 136,
   "metadata": {},
   "outputs": [
    {
     "data": {
      "text/plain": [
       "(1590, 10)"
      ]
     },
     "execution_count": 136,
     "metadata": {},
     "output_type": "execute_result"
    }
   ],
   "source": [
    "df_real.shape"
   ]
  },
  {
   "cell_type": "code",
   "execution_count": 137,
   "metadata": {},
   "outputs": [
    {
     "data": {
      "text/plain": [
       "(1589, 10)"
      ]
     },
     "execution_count": 137,
     "metadata": {},
     "output_type": "execute_result"
    }
   ],
   "source": [
    "df_real = df_real.dropna(subset = ['news_url'])\n",
    "df_real = df_real.dropna(subset = ['title'])\n",
    "df_real.shape"
   ]
  },
  {
   "cell_type": "code",
   "execution_count": 138,
   "metadata": {},
   "outputs": [],
   "source": [
    "df_real = df_real.loc[:,['news_url','title']]"
   ]
  },
  {
   "cell_type": "code",
   "execution_count": 139,
   "metadata": {},
   "outputs": [
    {
     "data": {
      "text/html": [
       "<div>\n",
       "<style scoped>\n",
       "    .dataframe tbody tr th:only-of-type {\n",
       "        vertical-align: middle;\n",
       "    }\n",
       "\n",
       "    .dataframe tbody tr th {\n",
       "        vertical-align: top;\n",
       "    }\n",
       "\n",
       "    .dataframe thead th {\n",
       "        text-align: right;\n",
       "    }\n",
       "</style>\n",
       "<table border=\"1\" class=\"dataframe\">\n",
       "  <thead>\n",
       "    <tr style=\"text-align: right;\">\n",
       "      <th></th>\n",
       "      <th>news_url</th>\n",
       "      <th>title</th>\n",
       "      <th>target</th>\n",
       "    </tr>\n",
       "  </thead>\n",
       "  <tbody>\n",
       "    <tr>\n",
       "      <th>0</th>\n",
       "      <td>https://www.healthline.com/health-news/coronav...</td>\n",
       "      <td>Coronavirus Outbreak: Live Updates</td>\n",
       "      <td>0</td>\n",
       "    </tr>\n",
       "    <tr>\n",
       "      <th>1</th>\n",
       "      <td>https://www.healthline.com/health-news/screen-...</td>\n",
       "      <td>Screen Time Doesn’t Hurt Kids’ Social Skills, ...</td>\n",
       "      <td>0</td>\n",
       "    </tr>\n",
       "    <tr>\n",
       "      <th>2</th>\n",
       "      <td>https://www.healthline.com/health-news/heres-e...</td>\n",
       "      <td>Here’s Exactly Where We Are with Vaccines and ...</td>\n",
       "      <td>0</td>\n",
       "    </tr>\n",
       "    <tr>\n",
       "      <th>3</th>\n",
       "      <td>https://www.healthline.com/health-news/heres-w...</td>\n",
       "      <td>Here’s What Happens to the Body After Contract...</td>\n",
       "      <td>0</td>\n",
       "    </tr>\n",
       "    <tr>\n",
       "      <th>4</th>\n",
       "      <td>https://www.healthline.com/health-news/why-you...</td>\n",
       "      <td>Why You Should Be Skeptical of Early Results o...</td>\n",
       "      <td>0</td>\n",
       "    </tr>\n",
       "  </tbody>\n",
       "</table>\n",
       "</div>"
      ],
      "text/plain": [
       "                                            news_url  \\\n",
       "0  https://www.healthline.com/health-news/coronav...   \n",
       "1  https://www.healthline.com/health-news/screen-...   \n",
       "2  https://www.healthline.com/health-news/heres-e...   \n",
       "3  https://www.healthline.com/health-news/heres-w...   \n",
       "4  https://www.healthline.com/health-news/why-you...   \n",
       "\n",
       "                                               title  target  \n",
       "0                 Coronavirus Outbreak: Live Updates       0  \n",
       "1  Screen Time Doesn’t Hurt Kids’ Social Skills, ...       0  \n",
       "2  Here’s Exactly Where We Are with Vaccines and ...       0  \n",
       "3  Here’s What Happens to the Body After Contract...       0  \n",
       "4  Why You Should Be Skeptical of Early Results o...       0  "
      ]
     },
     "execution_count": 139,
     "metadata": {},
     "output_type": "execute_result"
    }
   ],
   "source": [
    "df_real['target'] = 0\n",
    "df_real.head()"
   ]
  },
  {
   "cell_type": "code",
   "execution_count": 140,
   "metadata": {},
   "outputs": [
    {
     "data": {
      "text/plain": [
       "(49095, 3)"
      ]
     },
     "execution_count": 140,
     "metadata": {},
     "output_type": "execute_result"
    }
   ],
   "source": [
    "df_combined=pd.concat([df_combined,df_real])\n",
    "df_combined.shape"
   ]
  },
  {
   "cell_type": "code",
   "execution_count": 142,
   "metadata": {
    "scrolled": true
   },
   "outputs": [
    {
     "data": {
      "text/html": [
       "<div>\n",
       "<style scoped>\n",
       "    .dataframe tbody tr th:only-of-type {\n",
       "        vertical-align: middle;\n",
       "    }\n",
       "\n",
       "    .dataframe tbody tr th {\n",
       "        vertical-align: top;\n",
       "    }\n",
       "\n",
       "    .dataframe thead th {\n",
       "        text-align: right;\n",
       "    }\n",
       "</style>\n",
       "<table border=\"1\" class=\"dataframe\">\n",
       "  <thead>\n",
       "    <tr style=\"text-align: right;\">\n",
       "      <th></th>\n",
       "      <th>Unnamed: 0</th>\n",
       "      <th>type</th>\n",
       "      <th>fact_check_url</th>\n",
       "      <th>news_url</th>\n",
       "      <th>title</th>\n",
       "      <th>newstitle</th>\n",
       "      <th>content</th>\n",
       "      <th>abstract</th>\n",
       "      <th>publish_date</th>\n",
       "      <th>meta_keywords</th>\n",
       "    </tr>\n",
       "  </thead>\n",
       "  <tbody>\n",
       "    <tr>\n",
       "      <th>0</th>\n",
       "      <td>1555</td>\n",
       "      <td>article</td>\n",
       "      <td>healthline.com</td>\n",
       "      <td>https://www.healthline.com/health-news/how-to-...</td>\n",
       "      <td>How to Enjoy the Fourth of July Weekend Amid t...</td>\n",
       "      <td>\"How to Enjoy Fourth of July Weekend Amid the ...</td>\n",
       "      <td>experts recommend everyone avoid large gatheri...</td>\n",
       "      <td>experts recommend everyone avoid large gatheri...</td>\n",
       "      <td>NaN</td>\n",
       "      <td>\"COVID19 coronavirus prevention advice July 4 ...</td>\n",
       "    </tr>\n",
       "    <tr>\n",
       "      <th>1</th>\n",
       "      <td>1556</td>\n",
       "      <td>article</td>\n",
       "      <td>healthline.com</td>\n",
       "      <td>https://www.healthline.com/health-news/cdc-exp...</td>\n",
       "      <td>CDC Expands List of Those with Higher COVID-19...</td>\n",
       "      <td>\"CDC Expands List of Those with Higher COVID-1...</td>\n",
       "      <td>experts say the key is to stay in the know and...</td>\n",
       "      <td>officials at the centers for disease control a...</td>\n",
       "      <td>NaN</td>\n",
       "      <td>\"CDC list expanded COVID-19 coronavirus higher...</td>\n",
       "    </tr>\n",
       "    <tr>\n",
       "      <th>2</th>\n",
       "      <td>1557</td>\n",
       "      <td>article</td>\n",
       "      <td>healthline.com</td>\n",
       "      <td>https://www.healthline.com/health-news/feds-wa...</td>\n",
       "      <td>Feds Warn That Face Mask ‘Exemption’ Cards Are...</td>\n",
       "      <td>\"Feds Warn That Face Mask ‘Exemption’ Cards Ar...</td>\n",
       "      <td>some people have reportedly been presenting fa...</td>\n",
       "      <td>reports of people presenting cards that claim ...</td>\n",
       "      <td>NaN</td>\n",
       "      <td>\"covid 19, coronavirus, face mask exemption ca...</td>\n",
       "    </tr>\n",
       "    <tr>\n",
       "      <th>3</th>\n",
       "      <td>1558</td>\n",
       "      <td>article</td>\n",
       "      <td>healthline.com</td>\n",
       "      <td>https://www.healthline.com/health-news/experts...</td>\n",
       "      <td>Experts Confident Biden’s COVID-19 Response Co...</td>\n",
       "      <td>\"Experts Confident Biden's COVID-19 Response C...</td>\n",
       "      <td>medical experts say they believe bidens plan t...</td>\n",
       "      <td>medical experts say they believe bidens plan t...</td>\n",
       "      <td>NaN</td>\n",
       "      <td>\"covid 19, coronavirus, testing and tracing\"</td>\n",
       "    </tr>\n",
       "    <tr>\n",
       "      <th>4</th>\n",
       "      <td>1559</td>\n",
       "      <td>article</td>\n",
       "      <td>healthline.com</td>\n",
       "      <td>https://www.healthline.com/health-news/heres-e...</td>\n",
       "      <td>Here’s Exactly Where We Are with Vaccines and ...</td>\n",
       "      <td>\"Where We're at with Vaccines and Treatments f...</td>\n",
       "      <td>scientists around the world are working on a n...</td>\n",
       "      <td>scientists around the world are working on a n...</td>\n",
       "      <td>NaN</td>\n",
       "      <td>\"covid19 coronavirus outbreak research progres...</td>\n",
       "    </tr>\n",
       "  </tbody>\n",
       "</table>\n",
       "</div>"
      ],
      "text/plain": [
       "   Unnamed: 0     type  fact_check_url  \\\n",
       "0        1555  article  healthline.com   \n",
       "1        1556  article  healthline.com   \n",
       "2        1557  article  healthline.com   \n",
       "3        1558  article  healthline.com   \n",
       "4        1559  article  healthline.com   \n",
       "\n",
       "                                            news_url  \\\n",
       "0  https://www.healthline.com/health-news/how-to-...   \n",
       "1  https://www.healthline.com/health-news/cdc-exp...   \n",
       "2  https://www.healthline.com/health-news/feds-wa...   \n",
       "3  https://www.healthline.com/health-news/experts...   \n",
       "4  https://www.healthline.com/health-news/heres-e...   \n",
       "\n",
       "                                               title  \\\n",
       "0  How to Enjoy the Fourth of July Weekend Amid t...   \n",
       "1  CDC Expands List of Those with Higher COVID-19...   \n",
       "2  Feds Warn That Face Mask ‘Exemption’ Cards Are...   \n",
       "3  Experts Confident Biden’s COVID-19 Response Co...   \n",
       "4  Here’s Exactly Where We Are with Vaccines and ...   \n",
       "\n",
       "                                           newstitle  \\\n",
       "0  \"How to Enjoy Fourth of July Weekend Amid the ...   \n",
       "1  \"CDC Expands List of Those with Higher COVID-1...   \n",
       "2  \"Feds Warn That Face Mask ‘Exemption’ Cards Ar...   \n",
       "3  \"Experts Confident Biden's COVID-19 Response C...   \n",
       "4  \"Where We're at with Vaccines and Treatments f...   \n",
       "\n",
       "                                             content  \\\n",
       "0  experts recommend everyone avoid large gatheri...   \n",
       "1  experts say the key is to stay in the know and...   \n",
       "2  some people have reportedly been presenting fa...   \n",
       "3  medical experts say they believe bidens plan t...   \n",
       "4  scientists around the world are working on a n...   \n",
       "\n",
       "                                            abstract publish_date  \\\n",
       "0  experts recommend everyone avoid large gatheri...          NaN   \n",
       "1  officials at the centers for disease control a...          NaN   \n",
       "2  reports of people presenting cards that claim ...          NaN   \n",
       "3  medical experts say they believe bidens plan t...          NaN   \n",
       "4  scientists around the world are working on a n...          NaN   \n",
       "\n",
       "                                       meta_keywords  \n",
       "0  \"COVID19 coronavirus prevention advice July 4 ...  \n",
       "1  \"CDC list expanded COVID-19 coronavirus higher...  \n",
       "2  \"covid 19, coronavirus, face mask exemption ca...  \n",
       "3       \"covid 19, coronavirus, testing and tracing\"  \n",
       "4  \"covid19 coronavirus outbreak research progres...  "
      ]
     },
     "execution_count": 142,
     "metadata": {},
     "output_type": "execute_result"
    }
   ],
   "source": [
    "df_real = pd.read_csv(\"Datasets/Covid 19/NewsRealCOVID-19_7.csv\")\n",
    "df_real.head()"
   ]
  },
  {
   "cell_type": "code",
   "execution_count": 143,
   "metadata": {},
   "outputs": [
    {
     "data": {
      "text/plain": [
       "(1127, 10)"
      ]
     },
     "execution_count": 143,
     "metadata": {},
     "output_type": "execute_result"
    }
   ],
   "source": [
    "df_real.shape"
   ]
  },
  {
   "cell_type": "code",
   "execution_count": 144,
   "metadata": {},
   "outputs": [
    {
     "data": {
      "text/plain": [
       "(1125, 10)"
      ]
     },
     "execution_count": 144,
     "metadata": {},
     "output_type": "execute_result"
    }
   ],
   "source": [
    "df_real = df_real.dropna(subset = ['news_url'])\n",
    "df_real = df_real.dropna(subset = ['title'])\n",
    "df_real.shape"
   ]
  },
  {
   "cell_type": "code",
   "execution_count": 145,
   "metadata": {},
   "outputs": [],
   "source": [
    "df_real = df_real.loc[:,['news_url','title']]"
   ]
  },
  {
   "cell_type": "code",
   "execution_count": 146,
   "metadata": {},
   "outputs": [
    {
     "data": {
      "text/html": [
       "<div>\n",
       "<style scoped>\n",
       "    .dataframe tbody tr th:only-of-type {\n",
       "        vertical-align: middle;\n",
       "    }\n",
       "\n",
       "    .dataframe tbody tr th {\n",
       "        vertical-align: top;\n",
       "    }\n",
       "\n",
       "    .dataframe thead th {\n",
       "        text-align: right;\n",
       "    }\n",
       "</style>\n",
       "<table border=\"1\" class=\"dataframe\">\n",
       "  <thead>\n",
       "    <tr style=\"text-align: right;\">\n",
       "      <th></th>\n",
       "      <th>news_url</th>\n",
       "      <th>title</th>\n",
       "      <th>target</th>\n",
       "    </tr>\n",
       "  </thead>\n",
       "  <tbody>\n",
       "    <tr>\n",
       "      <th>0</th>\n",
       "      <td>https://www.healthline.com/health-news/how-to-...</td>\n",
       "      <td>How to Enjoy the Fourth of July Weekend Amid t...</td>\n",
       "      <td>0</td>\n",
       "    </tr>\n",
       "    <tr>\n",
       "      <th>1</th>\n",
       "      <td>https://www.healthline.com/health-news/cdc-exp...</td>\n",
       "      <td>CDC Expands List of Those with Higher COVID-19...</td>\n",
       "      <td>0</td>\n",
       "    </tr>\n",
       "    <tr>\n",
       "      <th>2</th>\n",
       "      <td>https://www.healthline.com/health-news/feds-wa...</td>\n",
       "      <td>Feds Warn That Face Mask ‘Exemption’ Cards Are...</td>\n",
       "      <td>0</td>\n",
       "    </tr>\n",
       "    <tr>\n",
       "      <th>3</th>\n",
       "      <td>https://www.healthline.com/health-news/experts...</td>\n",
       "      <td>Experts Confident Biden’s COVID-19 Response Co...</td>\n",
       "      <td>0</td>\n",
       "    </tr>\n",
       "    <tr>\n",
       "      <th>4</th>\n",
       "      <td>https://www.healthline.com/health-news/heres-e...</td>\n",
       "      <td>Here’s Exactly Where We Are with Vaccines and ...</td>\n",
       "      <td>0</td>\n",
       "    </tr>\n",
       "  </tbody>\n",
       "</table>\n",
       "</div>"
      ],
      "text/plain": [
       "                                            news_url  \\\n",
       "0  https://www.healthline.com/health-news/how-to-...   \n",
       "1  https://www.healthline.com/health-news/cdc-exp...   \n",
       "2  https://www.healthline.com/health-news/feds-wa...   \n",
       "3  https://www.healthline.com/health-news/experts...   \n",
       "4  https://www.healthline.com/health-news/heres-e...   \n",
       "\n",
       "                                               title  target  \n",
       "0  How to Enjoy the Fourth of July Weekend Amid t...       0  \n",
       "1  CDC Expands List of Those with Higher COVID-19...       0  \n",
       "2  Feds Warn That Face Mask ‘Exemption’ Cards Are...       0  \n",
       "3  Experts Confident Biden’s COVID-19 Response Co...       0  \n",
       "4  Here’s Exactly Where We Are with Vaccines and ...       0  "
      ]
     },
     "execution_count": 146,
     "metadata": {},
     "output_type": "execute_result"
    }
   ],
   "source": [
    "df_real['target'] = 0\n",
    "df_real.head()"
   ]
  },
  {
   "cell_type": "code",
   "execution_count": 147,
   "metadata": {},
   "outputs": [
    {
     "data": {
      "text/plain": [
       "(50220, 3)"
      ]
     },
     "execution_count": 147,
     "metadata": {},
     "output_type": "execute_result"
    }
   ],
   "source": [
    "df_combined=pd.concat([df_combined,df_real])\n",
    "df_combined.shape"
   ]
  },
  {
   "cell_type": "code",
   "execution_count": 148,
   "metadata": {},
   "outputs": [
    {
     "data": {
      "text/html": [
       "<div>\n",
       "<style scoped>\n",
       "    .dataframe tbody tr th:only-of-type {\n",
       "        vertical-align: middle;\n",
       "    }\n",
       "\n",
       "    .dataframe tbody tr th {\n",
       "        vertical-align: top;\n",
       "    }\n",
       "\n",
       "    .dataframe thead th {\n",
       "        text-align: right;\n",
       "    }\n",
       "</style>\n",
       "<table border=\"1\" class=\"dataframe\">\n",
       "  <thead>\n",
       "    <tr style=\"text-align: right;\">\n",
       "      <th></th>\n",
       "      <th>news_url</th>\n",
       "      <th>title</th>\n",
       "      <th>target</th>\n",
       "      <th>total</th>\n",
       "    </tr>\n",
       "  </thead>\n",
       "  <tbody>\n",
       "    <tr>\n",
       "      <th>0</th>\n",
       "      <td>speedtalk.com/forum/viewtopic.php?t=51650</td>\n",
       "      <td>BREAKING: First NFL Team Declares Bankruptcy O...</td>\n",
       "      <td>0</td>\n",
       "      <td>BREAKING: First NFL Team Declares Bankruptcy O...</td>\n",
       "    </tr>\n",
       "    <tr>\n",
       "      <th>1</th>\n",
       "      <td>politics2020.info/index.php/2018/03/13/court-o...</td>\n",
       "      <td>Court Orders Obama To Pay $400 Million In Rest...</td>\n",
       "      <td>0</td>\n",
       "      <td>Court Orders Obama To Pay $400 Million In Rest...</td>\n",
       "    </tr>\n",
       "    <tr>\n",
       "      <th>2</th>\n",
       "      <td>www.nscdscamps.org/blog/category/parenting/467...</td>\n",
       "      <td>UPDATE: Second Roy Moore Accuser Works For Mic...</td>\n",
       "      <td>0</td>\n",
       "      <td>UPDATE: Second Roy Moore Accuser Works For Mic...</td>\n",
       "    </tr>\n",
       "    <tr>\n",
       "      <th>3</th>\n",
       "      <td>https://howafrica.com/oscar-pistorius-attempts...</td>\n",
       "      <td>Oscar Pistorius Attempts To Commit Suicide</td>\n",
       "      <td>0</td>\n",
       "      <td>Oscar Pistorius Attempts To Commit Suicidehttp...</td>\n",
       "    </tr>\n",
       "    <tr>\n",
       "      <th>4</th>\n",
       "      <td>http://washingtonsources.org/trump-votes-for-d...</td>\n",
       "      <td>Trump Votes For Death Penalty For Being Gay</td>\n",
       "      <td>0</td>\n",
       "      <td>Trump Votes For Death Penalty For Being Gayhtt...</td>\n",
       "    </tr>\n",
       "  </tbody>\n",
       "</table>\n",
       "</div>"
      ],
      "text/plain": [
       "                                            news_url  \\\n",
       "0          speedtalk.com/forum/viewtopic.php?t=51650   \n",
       "1  politics2020.info/index.php/2018/03/13/court-o...   \n",
       "2  www.nscdscamps.org/blog/category/parenting/467...   \n",
       "3  https://howafrica.com/oscar-pistorius-attempts...   \n",
       "4  http://washingtonsources.org/trump-votes-for-d...   \n",
       "\n",
       "                                               title  target  \\\n",
       "0  BREAKING: First NFL Team Declares Bankruptcy O...       0   \n",
       "1  Court Orders Obama To Pay $400 Million In Rest...       0   \n",
       "2  UPDATE: Second Roy Moore Accuser Works For Mic...       0   \n",
       "3         Oscar Pistorius Attempts To Commit Suicide       0   \n",
       "4        Trump Votes For Death Penalty For Being Gay       0   \n",
       "\n",
       "                                               total  \n",
       "0  BREAKING: First NFL Team Declares Bankruptcy O...  \n",
       "1  Court Orders Obama To Pay $400 Million In Rest...  \n",
       "2  UPDATE: Second Roy Moore Accuser Works For Mic...  \n",
       "3  Oscar Pistorius Attempts To Commit Suicidehttp...  \n",
       "4  Trump Votes For Death Penalty For Being Gayhtt...  "
      ]
     },
     "execution_count": 148,
     "metadata": {},
     "output_type": "execute_result"
    }
   ],
   "source": [
    "train = df_combined.fillna(' ')\n",
    "train['total'] = train['title']+train['news_url']\n",
    "train.head()"
   ]
  },
  {
   "cell_type": "code",
   "execution_count": 149,
   "metadata": {},
   "outputs": [],
   "source": [
    "stop_words = stopwords.words('english')"
   ]
  },
  {
   "cell_type": "code",
   "execution_count": 150,
   "metadata": {},
   "outputs": [],
   "source": [
    "lemmatizer = WordNetLemmatizer()"
   ]
  },
  {
   "cell_type": "code",
   "execution_count": 151,
   "metadata": {
    "scrolled": true
   },
   "outputs": [
    {
     "data": {
      "text/html": [
       "<div>\n",
       "<style scoped>\n",
       "    .dataframe tbody tr th:only-of-type {\n",
       "        vertical-align: middle;\n",
       "    }\n",
       "\n",
       "    .dataframe tbody tr th {\n",
       "        vertical-align: top;\n",
       "    }\n",
       "\n",
       "    .dataframe thead th {\n",
       "        text-align: right;\n",
       "    }\n",
       "</style>\n",
       "<table border=\"1\" class=\"dataframe\">\n",
       "  <thead>\n",
       "    <tr style=\"text-align: right;\">\n",
       "      <th></th>\n",
       "      <th>total</th>\n",
       "    </tr>\n",
       "  </thead>\n",
       "  <tbody>\n",
       "    <tr>\n",
       "      <th>0</th>\n",
       "      <td>BREAKING: First NFL Team Declares Bankruptcy O...</td>\n",
       "    </tr>\n",
       "    <tr>\n",
       "      <th>1</th>\n",
       "      <td>Court Orders Obama To Pay $400 Million In Rest...</td>\n",
       "    </tr>\n",
       "    <tr>\n",
       "      <th>2</th>\n",
       "      <td>UPDATE: Second Roy Moore Accuser Works For Mic...</td>\n",
       "    </tr>\n",
       "    <tr>\n",
       "      <th>3</th>\n",
       "      <td>Oscar Pistorius Attempts To Commit Suicidehttp...</td>\n",
       "    </tr>\n",
       "    <tr>\n",
       "      <th>4</th>\n",
       "      <td>Trump Votes For Death Penalty For Being Gayhtt...</td>\n",
       "    </tr>\n",
       "  </tbody>\n",
       "</table>\n",
       "</div>"
      ],
      "text/plain": [
       "                                               total\n",
       "0  BREAKING: First NFL Team Declares Bankruptcy O...\n",
       "1  Court Orders Obama To Pay $400 Million In Rest...\n",
       "2  UPDATE: Second Roy Moore Accuser Works For Mic...\n",
       "3  Oscar Pistorius Attempts To Commit Suicidehttp...\n",
       "4  Trump Votes For Death Penalty For Being Gayhtt..."
      ]
     },
     "execution_count": 151,
     "metadata": {},
     "output_type": "execute_result"
    }
   ],
   "source": [
    "feature = train.loc[:,['total']]\n",
    "feature.head()"
   ]
  },
  {
   "cell_type": "code",
   "execution_count": 152,
   "metadata": {},
   "outputs": [],
   "source": [
    "def lemmatize_text(text):\n",
    "    filter_sentence = ''\n",
    "    sentence = re.sub(r'[^\\w\\s]', '', text)\n",
    "     # Tokenization\n",
    "    words = nltk.word_tokenize(sentence)\n",
    "     # Stopwords removal\n",
    "    words = [w for w in words if not w in stop_words]\n",
    "    for words in words:\n",
    "        filter_sentence = filter_sentence  + ' ' +str(lemmatizer.lemmatize(words)).lower()\n",
    "    return filter_sentence\n"
   ]
  },
  {
   "cell_type": "code",
   "execution_count": 153,
   "metadata": {},
   "outputs": [
    {
     "data": {
      "text/html": [
       "<div>\n",
       "<style scoped>\n",
       "    .dataframe tbody tr th:only-of-type {\n",
       "        vertical-align: middle;\n",
       "    }\n",
       "\n",
       "    .dataframe tbody tr th {\n",
       "        vertical-align: top;\n",
       "    }\n",
       "\n",
       "    .dataframe thead th {\n",
       "        text-align: right;\n",
       "    }\n",
       "</style>\n",
       "<table border=\"1\" class=\"dataframe\">\n",
       "  <thead>\n",
       "    <tr style=\"text-align: right;\">\n",
       "      <th></th>\n",
       "      <th>news_url</th>\n",
       "      <th>title</th>\n",
       "      <th>target</th>\n",
       "      <th>total</th>\n",
       "      <th>text_lemmatized</th>\n",
       "    </tr>\n",
       "  </thead>\n",
       "  <tbody>\n",
       "    <tr>\n",
       "      <th>0</th>\n",
       "      <td>speedtalk.com/forum/viewtopic.php?t=51650</td>\n",
       "      <td>BREAKING: First NFL Team Declares Bankruptcy O...</td>\n",
       "      <td>0</td>\n",
       "      <td>BREAKING: First NFL Team Declares Bankruptcy O...</td>\n",
       "      <td>breaking first nfl team declares bankruptcy o...</td>\n",
       "    </tr>\n",
       "    <tr>\n",
       "      <th>1</th>\n",
       "      <td>politics2020.info/index.php/2018/03/13/court-o...</td>\n",
       "      <td>Court Orders Obama To Pay $400 Million In Rest...</td>\n",
       "      <td>0</td>\n",
       "      <td>Court Orders Obama To Pay $400 Million In Rest...</td>\n",
       "      <td>court orders obama to pay 400 million in rest...</td>\n",
       "    </tr>\n",
       "    <tr>\n",
       "      <th>2</th>\n",
       "      <td>www.nscdscamps.org/blog/category/parenting/467...</td>\n",
       "      <td>UPDATE: Second Roy Moore Accuser Works For Mic...</td>\n",
       "      <td>0</td>\n",
       "      <td>UPDATE: Second Roy Moore Accuser Works For Mic...</td>\n",
       "      <td>update second roy moore accuser works for mic...</td>\n",
       "    </tr>\n",
       "    <tr>\n",
       "      <th>3</th>\n",
       "      <td>https://howafrica.com/oscar-pistorius-attempts...</td>\n",
       "      <td>Oscar Pistorius Attempts To Commit Suicide</td>\n",
       "      <td>0</td>\n",
       "      <td>Oscar Pistorius Attempts To Commit Suicidehttp...</td>\n",
       "      <td>oscar pistorius attempts to commit suicidehtt...</td>\n",
       "    </tr>\n",
       "    <tr>\n",
       "      <th>4</th>\n",
       "      <td>http://washingtonsources.org/trump-votes-for-d...</td>\n",
       "      <td>Trump Votes For Death Penalty For Being Gay</td>\n",
       "      <td>0</td>\n",
       "      <td>Trump Votes For Death Penalty For Being Gayhtt...</td>\n",
       "      <td>trump votes for death penalty for being gayht...</td>\n",
       "    </tr>\n",
       "  </tbody>\n",
       "</table>\n",
       "</div>"
      ],
      "text/plain": [
       "                                            news_url  \\\n",
       "0          speedtalk.com/forum/viewtopic.php?t=51650   \n",
       "1  politics2020.info/index.php/2018/03/13/court-o...   \n",
       "2  www.nscdscamps.org/blog/category/parenting/467...   \n",
       "3  https://howafrica.com/oscar-pistorius-attempts...   \n",
       "4  http://washingtonsources.org/trump-votes-for-d...   \n",
       "\n",
       "                                               title  target  \\\n",
       "0  BREAKING: First NFL Team Declares Bankruptcy O...       0   \n",
       "1  Court Orders Obama To Pay $400 Million In Rest...       0   \n",
       "2  UPDATE: Second Roy Moore Accuser Works For Mic...       0   \n",
       "3         Oscar Pistorius Attempts To Commit Suicide       0   \n",
       "4        Trump Votes For Death Penalty For Being Gay       0   \n",
       "\n",
       "                                               total  \\\n",
       "0  BREAKING: First NFL Team Declares Bankruptcy O...   \n",
       "1  Court Orders Obama To Pay $400 Million In Rest...   \n",
       "2  UPDATE: Second Roy Moore Accuser Works For Mic...   \n",
       "3  Oscar Pistorius Attempts To Commit Suicidehttp...   \n",
       "4  Trump Votes For Death Penalty For Being Gayhtt...   \n",
       "\n",
       "                                     text_lemmatized  \n",
       "0   breaking first nfl team declares bankruptcy o...  \n",
       "1   court orders obama to pay 400 million in rest...  \n",
       "2   update second roy moore accuser works for mic...  \n",
       "3   oscar pistorius attempts to commit suicidehtt...  \n",
       "4   trump votes for death penalty for being gayht...  "
      ]
     },
     "execution_count": 153,
     "metadata": {},
     "output_type": "execute_result"
    }
   ],
   "source": [
    "train['text_lemmatized'] = train.total.apply(lemmatize_text)\n",
    "train.head()"
   ]
  }
 ],
 "metadata": {
  "kernelspec": {
   "display_name": "Python 3",
   "language": "python",
   "name": "python3"
  },
  "language_info": {
   "codemirror_mode": {
    "name": "ipython",
    "version": 3
   },
   "file_extension": ".py",
   "mimetype": "text/x-python",
   "name": "python",
   "nbconvert_exporter": "python",
   "pygments_lexer": "ipython3",
   "version": "3.7.1"
  }
 },
 "nbformat": 4,
 "nbformat_minor": 2
}